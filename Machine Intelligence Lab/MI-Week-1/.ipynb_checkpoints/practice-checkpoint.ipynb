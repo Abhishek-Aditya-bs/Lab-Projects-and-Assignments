{
 "cells": [
  {
   "cell_type": "code",
   "execution_count": 1,
   "metadata": {},
   "outputs": [],
   "source": [
    "import numpy as np\n",
    "import pandas as pd"
   ]
  },
  {
   "cell_type": "code",
   "execution_count": 2,
   "metadata": {},
   "outputs": [
    {
     "data": {
      "text/plain": [
       "array([[1, 1, 1],\n",
       "       [1, 1, 1]], dtype=int8)"
      ]
     },
     "execution_count": 2,
     "metadata": {},
     "output_type": "execute_result"
    }
   ],
   "source": [
    "np.ones((2,3),dtype=np.int8)"
   ]
  },
  {
   "cell_type": "code",
   "execution_count": 3,
   "metadata": {},
   "outputs": [
    {
     "data": {
      "text/plain": [
       "array([[0., 0., 0.],\n",
       "       [0., 0., 0.]])"
      ]
     },
     "execution_count": 3,
     "metadata": {},
     "output_type": "execute_result"
    }
   ],
   "source": [
    "np.zeros((2,3),dtype=np.float64)"
   ]
  },
  {
   "cell_type": "code",
   "execution_count": 4,
   "metadata": {},
   "outputs": [
    {
     "data": {
      "text/plain": [
       "array([[[0.18076003, 0.68135826, 0.0699974 ],\n",
       "        [0.93879306, 0.83000781, 0.80110123]],\n",
       "\n",
       "       [[0.02633878, 0.42746944, 0.18853593],\n",
       "        [0.23811508, 0.2178616 , 0.31391334]]])"
      ]
     },
     "execution_count": 4,
     "metadata": {},
     "output_type": "execute_result"
    }
   ],
   "source": [
    "np.random.rand(2,2,3)"
   ]
  },
  {
   "cell_type": "code",
   "execution_count": 5,
   "metadata": {},
   "outputs": [
    {
     "data": {
      "text/plain": [
       "0.8467598378698962"
      ]
     },
     "execution_count": 5,
     "metadata": {},
     "output_type": "execute_result"
    }
   ],
   "source": [
    "np.random.rand()"
   ]
  },
  {
   "cell_type": "code",
   "execution_count": 6,
   "metadata": {},
   "outputs": [
    {
     "data": {
      "text/plain": [
       "array([[0.5488135 , 0.71518937, 0.60276338],\n",
       "       [0.54488318, 0.4236548 , 0.64589411]])"
      ]
     },
     "execution_count": 6,
     "metadata": {},
     "output_type": "execute_result"
    }
   ],
   "source": [
    "np.random.seed(0)\n",
    "np.random.rand(2,3)"
   ]
  },
  {
   "cell_type": "code",
   "execution_count": 7,
   "metadata": {},
   "outputs": [
    {
     "data": {
      "text/plain": [
       "array([[0.5488135 , 0.71518937, 0.60276338],\n",
       "       [0.54488318, 0.4236548 , 0.64589411]])"
      ]
     },
     "execution_count": 7,
     "metadata": {},
     "output_type": "execute_result"
    }
   ],
   "source": [
    "np.random.seed(0)\n",
    "np.random.rand(2,3)"
   ]
  },
  {
   "cell_type": "code",
   "execution_count": 8,
   "metadata": {},
   "outputs": [
    {
     "data": {
      "text/plain": [
       "array([1, 2, 3])"
      ]
     },
     "execution_count": 8,
     "metadata": {},
     "output_type": "execute_result"
    }
   ],
   "source": [
    "x=[1,2,3]\n",
    "a=np.array(x)\n",
    "a"
   ]
  },
  {
   "cell_type": "code",
   "execution_count": 9,
   "metadata": {},
   "outputs": [
    {
     "data": {
      "text/plain": [
       "5"
      ]
     },
     "execution_count": 9,
     "metadata": {},
     "output_type": "execute_result"
    }
   ],
   "source": [
    "x=[[1,2,3],[2,3,5]]\n",
    "a=np.array(x)\n",
    "a[1,2]"
   ]
  },
  {
   "cell_type": "code",
   "execution_count": 10,
   "metadata": {},
   "outputs": [
    {
     "data": {
      "text/plain": [
       "array([[  9,  20,  33],\n",
       "       [270, 522, 630]])"
      ]
     },
     "execution_count": 10,
     "metadata": {},
     "output_type": "execute_result"
    }
   ],
   "source": [
    "a=np.array([[1,2,3],[5,6,7]])\n",
    "b=np.array([[9,10,11],[54,87,90]])\n",
    "c=np.multiply(a,b)\n",
    "c          "
   ]
  },
  {
   "cell_type": "code",
   "execution_count": 11,
   "metadata": {},
   "outputs": [
    {
     "data": {
      "text/plain": [
       "array([[ 23,  37,  41],\n",
       "       [ 67, 113, 117]])"
      ]
     },
     "execution_count": 11,
     "metadata": {},
     "output_type": "execute_result"
    }
   ],
   "source": [
    "b=np.array([[2,6,8],[6,8,0],[3,5,11]])\n",
    "c=np.matmul(a,b)\n",
    "c"
   ]
  },
  {
   "cell_type": "code",
   "execution_count": 12,
   "metadata": {},
   "outputs": [
    {
     "data": {
      "text/plain": [
       "16"
      ]
     },
     "execution_count": 12,
     "metadata": {},
     "output_type": "execute_result"
    }
   ],
   "source": [
    "a=np.array([1,2])\n",
    "b=np.array([4,6])\n",
    "c=np.dot(a,b)\n",
    "c"
   ]
  },
  {
   "cell_type": "code",
   "execution_count": 13,
   "metadata": {},
   "outputs": [
    {
     "data": {
      "text/plain": [
       "array([178, -89,  76])"
      ]
     },
     "execution_count": 13,
     "metadata": {},
     "output_type": "execute_result"
    }
   ],
   "source": [
    "x=np.array([1,2])\n",
    "y=np.array([7,90,89])\n",
    "c=np.cross(x,y)\n",
    "c"
   ]
  },
  {
   "cell_type": "code",
   "execution_count": 14,
   "metadata": {},
   "outputs": [
    {
     "data": {
      "text/plain": [
       "array([[ 1.2465374 , -0.00277008],\n",
       "       [-0.1232687 ,  0.00138504]])"
      ]
     },
     "execution_count": 14,
     "metadata": {},
     "output_type": "execute_result"
    }
   ],
   "source": [
    "x=np.array([[1,2],[89,900]])\n",
    "inverse=np.linalg.inv(x)\n",
    "inverse"
   ]
  },
  {
   "cell_type": "code",
   "execution_count": 15,
   "metadata": {},
   "outputs": [
    {
     "data": {
      "text/plain": [
       "array([[  1,  89],\n",
       "       [  2, 900]])"
      ]
     },
     "execution_count": 15,
     "metadata": {},
     "output_type": "execute_result"
    }
   ],
   "source": [
    "t=np.transpose(x)\n",
    "t"
   ]
  },
  {
   "cell_type": "code",
   "execution_count": 16,
   "metadata": {},
   "outputs": [
    {
     "data": {
      "text/plain": [
       "721.9999999999998"
      ]
     },
     "execution_count": 16,
     "metadata": {},
     "output_type": "execute_result"
    }
   ],
   "source": [
    "det=np.linalg.det(x)\n",
    "det"
   ]
  },
  {
   "cell_type": "code",
   "execution_count": 17,
   "metadata": {},
   "outputs": [
    {
     "data": {
      "text/plain": [
       "(2, 2)"
      ]
     },
     "execution_count": 17,
     "metadata": {},
     "output_type": "execute_result"
    }
   ],
   "source": [
    "x.shape"
   ]
  },
  {
   "cell_type": "code",
   "execution_count": 18,
   "metadata": {},
   "outputs": [],
   "source": [
    "df=pd.read_csv(\"example.csv\")"
   ]
  },
  {
   "cell_type": "code",
   "execution_count": 19,
   "metadata": {},
   "outputs": [
    {
     "name": "stdout",
     "output_type": "stream",
     "text": [
      "    SL.No  Attribute A  Attribute B Attribute C\n",
      "0       1         12.0           44           A\n",
      "1       2          NaN           22           B\n",
      "2       3         31.0           13           A\n",
      "3       4         19.0           13           C\n",
      "4       5         22.0           24           A\n",
      "5       6          NaN           45           C\n",
      "6       7         41.0           21           C\n",
      "7       8         22.0           78           B\n",
      "8       9         90.0           21         NaN\n",
      "9      10         81.0           45           B\n",
      "10     11          NaN           22           A\n",
      "11     12         56.0           35           C\n",
      "12     13         33.0           67           A\n",
      "13     14         21.0           12           C\n",
      "14     15         78.0           14           C\n"
     ]
    }
   ],
   "source": [
    "print(df)"
   ]
  },
  {
   "cell_type": "code",
   "execution_count": 20,
   "metadata": {},
   "outputs": [
    {
     "name": "stdout",
     "output_type": "stream",
     "text": [
      "['SL.No', 'Attribute A', 'Attribute B', 'Attribute C']\n"
     ]
    }
   ],
   "source": [
    "print(list(df.columns))"
   ]
  },
  {
   "cell_type": "code",
   "execution_count": 21,
   "metadata": {},
   "outputs": [
    {
     "name": "stdout",
     "output_type": "stream",
     "text": [
      "[1, 2, 3, 4, 5, 6, 7, 8, 9, 10, 11, 12, 13, 14, 15]\n"
     ]
    }
   ],
   "source": [
    "print(list(df['SL.No']))"
   ]
  },
  {
   "cell_type": "code",
   "execution_count": 22,
   "metadata": {},
   "outputs": [
    {
     "name": "stdout",
     "output_type": "stream",
     "text": [
      "[2, nan, 22, 'B']\n"
     ]
    }
   ],
   "source": [
    "print(list(df.iloc[1]))"
   ]
  },
  {
   "cell_type": "code",
   "execution_count": 23,
   "metadata": {},
   "outputs": [
    {
     "name": "stdout",
     "output_type": "stream",
     "text": [
      "[12.0, nan, 31.0, 19.0, 22.0, nan, 41.0, 22.0, 90.0, 81.0, nan, 56.0, 33.0, 21.0, 78.0]\n"
     ]
    }
   ],
   "source": [
    "print(list(df.iloc[:,1]))"
   ]
  },
  {
   "cell_type": "code",
   "execution_count": 24,
   "metadata": {},
   "outputs": [
    {
     "name": "stdout",
     "output_type": "stream",
     "text": [
      "   SL.No  Attribute A  Attribute B Attribute C\n",
      "0      1         12.0           44           A\n",
      "1      2          NaN           22           B\n"
     ]
    }
   ],
   "source": [
    "print(df[0:2])"
   ]
  },
  {
   "cell_type": "code",
   "execution_count": 25,
   "metadata": {},
   "outputs": [
    {
     "name": "stdout",
     "output_type": "stream",
     "text": [
      "SL.No           8.000000\n",
      "Attribute A    42.166667\n",
      "Attribute B    31.733333\n",
      "dtype: float64\n"
     ]
    }
   ],
   "source": [
    "print(df.mean(axis=0,skipna=True))"
   ]
  },
  {
   "cell_type": "code",
   "execution_count": 26,
   "metadata": {},
   "outputs": [],
   "source": [
    "g=df.groupby(by='Attribute A')"
   ]
  },
  {
   "cell_type": "code",
   "execution_count": 27,
   "metadata": {},
   "outputs": [
    {
     "name": "stdout",
     "output_type": "stream",
     "text": [
      "12.0    SL.No  Attribute A  Attribute B Attribute C\n",
      "0      1         12.0           44           A\n",
      "19.0    SL.No  Attribute A  Attribute B Attribute C\n",
      "3      4         19.0           13           C\n",
      "21.0     SL.No  Attribute A  Attribute B Attribute C\n",
      "13     14         21.0           12           C\n",
      "22.0    SL.No  Attribute A  Attribute B Attribute C\n",
      "4      5         22.0           24           A\n",
      "7      8         22.0           78           B\n",
      "31.0    SL.No  Attribute A  Attribute B Attribute C\n",
      "2      3         31.0           13           A\n",
      "33.0     SL.No  Attribute A  Attribute B Attribute C\n",
      "12     13         33.0           67           A\n",
      "41.0    SL.No  Attribute A  Attribute B Attribute C\n",
      "6      7         41.0           21           C\n",
      "56.0     SL.No  Attribute A  Attribute B Attribute C\n",
      "11     12         56.0           35           C\n",
      "78.0     SL.No  Attribute A  Attribute B Attribute C\n",
      "14     15         78.0           14           C\n",
      "81.0    SL.No  Attribute A  Attribute B Attribute C\n",
      "9     10         81.0           45           B\n",
      "90.0    SL.No  Attribute A  Attribute B Attribute C\n",
      "8      9         90.0           21         NaN\n"
     ]
    }
   ],
   "source": [
    "for grp, grpdata in g:\n",
    "    print(grp,grpdata)"
   ]
  },
  {
   "cell_type": "code",
   "execution_count": 28,
   "metadata": {},
   "outputs": [
    {
     "name": "stdout",
     "output_type": "stream",
     "text": [
      "    SL.No  Attribute A  Attribute B Attribute C\n",
      "0       1         12.0           44           A\n",
      "1       2          NaN           22           B\n",
      "2       3         31.0           13           A\n",
      "3       4         19.0           13           C\n",
      "4       5         22.0           24           A\n",
      "5       6          NaN           45           C\n",
      "6       7         41.0           21           C\n",
      "7       8         22.0           78           B\n",
      "8       9         90.0           21         NaN\n",
      "9      10         81.0           45           B\n",
      "10     11          NaN           22           A\n",
      "11     12         56.0           35           C\n",
      "12     13         33.0           67           A\n",
      "13     14         21.0           12           C\n",
      "14     15         78.0           14           C\n"
     ]
    }
   ],
   "source": [
    "print(df)"
   ]
  },
  {
   "cell_type": "code",
   "execution_count": 29,
   "metadata": {},
   "outputs": [],
   "source": [
    "df.fillna(method=\"ffill\",inplace=True)"
   ]
  },
  {
   "cell_type": "code",
   "execution_count": 30,
   "metadata": {},
   "outputs": [
    {
     "data": {
      "text/html": [
       "<div>\n",
       "<style scoped>\n",
       "    .dataframe tbody tr th:only-of-type {\n",
       "        vertical-align: middle;\n",
       "    }\n",
       "\n",
       "    .dataframe tbody tr th {\n",
       "        vertical-align: top;\n",
       "    }\n",
       "\n",
       "    .dataframe thead th {\n",
       "        text-align: right;\n",
       "    }\n",
       "</style>\n",
       "<table border=\"1\" class=\"dataframe\">\n",
       "  <thead>\n",
       "    <tr style=\"text-align: right;\">\n",
       "      <th></th>\n",
       "      <th>SL.No</th>\n",
       "      <th>Attribute A</th>\n",
       "      <th>Attribute B</th>\n",
       "      <th>Attribute C</th>\n",
       "    </tr>\n",
       "  </thead>\n",
       "  <tbody>\n",
       "    <tr>\n",
       "      <th>0</th>\n",
       "      <td>1</td>\n",
       "      <td>12.0</td>\n",
       "      <td>44</td>\n",
       "      <td>A</td>\n",
       "    </tr>\n",
       "    <tr>\n",
       "      <th>1</th>\n",
       "      <td>2</td>\n",
       "      <td>12.0</td>\n",
       "      <td>22</td>\n",
       "      <td>B</td>\n",
       "    </tr>\n",
       "    <tr>\n",
       "      <th>2</th>\n",
       "      <td>3</td>\n",
       "      <td>31.0</td>\n",
       "      <td>13</td>\n",
       "      <td>A</td>\n",
       "    </tr>\n",
       "    <tr>\n",
       "      <th>3</th>\n",
       "      <td>4</td>\n",
       "      <td>19.0</td>\n",
       "      <td>13</td>\n",
       "      <td>C</td>\n",
       "    </tr>\n",
       "    <tr>\n",
       "      <th>4</th>\n",
       "      <td>5</td>\n",
       "      <td>22.0</td>\n",
       "      <td>24</td>\n",
       "      <td>A</td>\n",
       "    </tr>\n",
       "    <tr>\n",
       "      <th>5</th>\n",
       "      <td>6</td>\n",
       "      <td>22.0</td>\n",
       "      <td>45</td>\n",
       "      <td>C</td>\n",
       "    </tr>\n",
       "    <tr>\n",
       "      <th>6</th>\n",
       "      <td>7</td>\n",
       "      <td>41.0</td>\n",
       "      <td>21</td>\n",
       "      <td>C</td>\n",
       "    </tr>\n",
       "    <tr>\n",
       "      <th>7</th>\n",
       "      <td>8</td>\n",
       "      <td>22.0</td>\n",
       "      <td>78</td>\n",
       "      <td>B</td>\n",
       "    </tr>\n",
       "    <tr>\n",
       "      <th>8</th>\n",
       "      <td>9</td>\n",
       "      <td>90.0</td>\n",
       "      <td>21</td>\n",
       "      <td>B</td>\n",
       "    </tr>\n",
       "    <tr>\n",
       "      <th>9</th>\n",
       "      <td>10</td>\n",
       "      <td>81.0</td>\n",
       "      <td>45</td>\n",
       "      <td>B</td>\n",
       "    </tr>\n",
       "    <tr>\n",
       "      <th>10</th>\n",
       "      <td>11</td>\n",
       "      <td>81.0</td>\n",
       "      <td>22</td>\n",
       "      <td>A</td>\n",
       "    </tr>\n",
       "    <tr>\n",
       "      <th>11</th>\n",
       "      <td>12</td>\n",
       "      <td>56.0</td>\n",
       "      <td>35</td>\n",
       "      <td>C</td>\n",
       "    </tr>\n",
       "    <tr>\n",
       "      <th>12</th>\n",
       "      <td>13</td>\n",
       "      <td>33.0</td>\n",
       "      <td>67</td>\n",
       "      <td>A</td>\n",
       "    </tr>\n",
       "    <tr>\n",
       "      <th>13</th>\n",
       "      <td>14</td>\n",
       "      <td>21.0</td>\n",
       "      <td>12</td>\n",
       "      <td>C</td>\n",
       "    </tr>\n",
       "    <tr>\n",
       "      <th>14</th>\n",
       "      <td>15</td>\n",
       "      <td>78.0</td>\n",
       "      <td>14</td>\n",
       "      <td>C</td>\n",
       "    </tr>\n",
       "  </tbody>\n",
       "</table>\n",
       "</div>"
      ],
      "text/plain": [
       "    SL.No  Attribute A  Attribute B Attribute C\n",
       "0       1         12.0           44           A\n",
       "1       2         12.0           22           B\n",
       "2       3         31.0           13           A\n",
       "3       4         19.0           13           C\n",
       "4       5         22.0           24           A\n",
       "5       6         22.0           45           C\n",
       "6       7         41.0           21           C\n",
       "7       8         22.0           78           B\n",
       "8       9         90.0           21           B\n",
       "9      10         81.0           45           B\n",
       "10     11         81.0           22           A\n",
       "11     12         56.0           35           C\n",
       "12     13         33.0           67           A\n",
       "13     14         21.0           12           C\n",
       "14     15         78.0           14           C"
      ]
     },
     "execution_count": 30,
     "metadata": {},
     "output_type": "execute_result"
    }
   ],
   "source": [
    "df"
   ]
  },
  {
   "cell_type": "code",
   "execution_count": 3,
   "metadata": {},
   "outputs": [],
   "source": [
    "def matrix_cofactor(array):\n",
    "\t#return cofactor matrix of the given array\n",
    "\tC = np.zeros(array.shape)\n",
    "\tnrows, ncols = C.shape\n",
    "\tfor row in range(nrows):\n",
    "\t\tfor col in range(ncols):\n",
    "\t\t\tminor = array[np.array(range(row)+range(row+1,nrows))[:,np.newaxis],\n",
    "\t\t\t\t\tnp.array(range(col)+range(col+1,ncols))]\n",
    "\t\t\tC[row, col] = (-1)**(row+col) * np.linalg.det(minor)\n",
    "\tarray=C\n",
    "\treturn array"
   ]
  },
  {
   "cell_type": "code",
   "execution_count": 1,
   "metadata": {},
   "outputs": [
    {
     "data": {
      "text/plain": [
       "3"
      ]
     },
     "execution_count": 1,
     "metadata": {},
     "output_type": "execute_result"
    }
   ],
   "source": [
    "t=(2,3)\n",
    "s=t[0]\n",
    "x=t[1]\n",
    "x"
   ]
  },
  {
   "cell_type": "code",
   "execution_count": 7,
   "metadata": {},
   "outputs": [
    {
     "data": {
      "text/plain": [
       "array([[1, 2, 3],\n",
       "       [4, 5, 6]])"
      ]
     },
     "execution_count": 7,
     "metadata": {},
     "output_type": "execute_result"
    }
   ],
   "source": [
    "c=[1,2,3,4,5,6]\n",
    "e=np.empty((2,3))\n",
    "e=np.reshape(c,e.shape)\n",
    "e"
   ]
  },
  {
   "cell_type": "code",
   "execution_count": 33,
   "metadata": {},
   "outputs": [],
   "source": [
    "def transpose(matrix):\n",
    "\treturn [[row[i] for row in matrix] for i in range(len(matrix[0]))]\n",
    "\n",
    "def multip(X, Y):\n",
    "\treturn [[sum(a*b for a,b in zip(X_row,Y_col)) for Y_col in zip(*Y)] for X_row in X]\n",
    "\n",
    "def getMatrixMinor(m,i,j):\n",
    "    return [row[:j] + row[j+1:] for row in (m[:i]+m[i+1:])]\n",
    "\n",
    "def getMatrixDeternminant(m):\n",
    "    #base case for 2x2 matrix\n",
    "    if len(m) == 2:\n",
    "    \treturn (m[0][0]*m[1][1]-m[0][1]*m[1][0])*1.0\n",
    "\n",
    "    determinant = 0\n",
    "    for c in range(len(m)):\n",
    "    \tdeterminant += ((-1.0)**c)*m[0][c]*getMatrixDeternminant(getMatrixMinor(m,0,c))\n",
    "    return determinant\n",
    "\n",
    "def getMatrixInverse(m):\n",
    "    cofactors = []\n",
    "    for r in range(len(m)):\n",
    "        cofactorRow = []\n",
    "        for c in range(len(m)):\n",
    "            minor = getMatrixMinor(m,r,c)\n",
    "            cofactorRow.append(((-1)**(r+c)) * getMatrixDeternminant(minor))\n",
    "        cofactors.append(cofactorRow)\n",
    "    cofactors = transpose(cofactors)\n",
    "    return cofactors\n",
    "\n",
    "def matrix_cofactor(array):\n",
    "\t# e = np.empty(np.array(array).shape)\n",
    "\t# c = getMatrixInverse(array) # returns a list with cofactors\n",
    "\t# e = np.reshape(np.array(c),np.array(array).shape)\n",
    "    e = np.linalg.inv(np.array(array)).T * np.linalg.det(np.array(array))\n",
    "    return e"
   ]
  },
  {
   "cell_type": "code",
   "execution_count": 34,
   "metadata": {},
   "outputs": [
    {
     "data": {
      "text/plain": [
       "array([[ 1., -4.],\n",
       "       [-2.,  1.]])"
      ]
     },
     "execution_count": 34,
     "metadata": {},
     "output_type": "execute_result"
    }
   ],
   "source": [
    "matrix_cofactor([[1,2],[4,1]])"
   ]
  },
  {
   "cell_type": "code",
   "execution_count": 82,
   "metadata": {},
   "outputs": [],
   "source": [
    "def matrix_cofactor(m):\n",
    "    cofactors = []\n",
    "    for r in range(m.shape[0]):\n",
    "        cofactorRow = []\n",
    "        for c in range(m.shape[1]):\n",
    "            minor = np.delete(np.delete(m,r,axis=0), c, axis=1)\n",
    "            cofactorRow.append(((-1)**(r+c)) * np.linalg.det(np.array(minor)))\n",
    "        cofactors.append(cofactorRow)\n",
    "    e = np.reshape(np.array(cofactors),m.shape)\n",
    "    return e"
   ]
  },
  {
   "cell_type": "code",
   "execution_count": 84,
   "metadata": {},
   "outputs": [
    {
     "data": {
      "text/plain": [
       "array([[ 5., -8.],\n",
       "       [-6.,  4.]])"
      ]
     },
     "execution_count": 84,
     "metadata": {},
     "output_type": "execute_result"
    }
   ],
   "source": [
    "matrix_cofactor(np.array([[4,6],[8,5]]))"
   ]
  },
  {
   "cell_type": "code",
   "execution_count": 85,
   "metadata": {},
   "outputs": [
    {
     "data": {
      "text/plain": [
       "array([[4, 6],\n",
       "       [8, 5]])"
      ]
     },
     "execution_count": 85,
     "metadata": {},
     "output_type": "execute_result"
    }
   ],
   "source": [
    "m=np.array([[4,6],[8,5]])\n",
    "m=np.array(m)\n",
    "m"
   ]
  },
  {
   "cell_type": "code",
   "execution_count": null,
   "metadata": {},
   "outputs": [],
   "source": []
  }
 ],
 "metadata": {
  "interpreter": {
   "hash": "57280735893db6f498852d3193dba3f94d78554ba3530429503fd3df9221d588"
  },
  "kernelspec": {
   "display_name": "Python 3.8.8 64-bit ('base': conda)",
   "name": "python3"
  },
  "language_info": {
   "codemirror_mode": {
    "name": "ipython",
    "version": 3
   },
   "file_extension": ".py",
   "mimetype": "text/x-python",
   "name": "python",
   "nbconvert_exporter": "python",
   "pygments_lexer": "ipython3",
   "version": "3.8.8"
  }
 },
 "nbformat": 4,
 "nbformat_minor": 5
}