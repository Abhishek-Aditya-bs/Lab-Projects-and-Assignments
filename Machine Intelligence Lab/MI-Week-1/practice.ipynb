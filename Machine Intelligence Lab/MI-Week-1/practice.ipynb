{
 "cells": [
  {
   "cell_type": "code",
   "execution_count": 1,
   "id": "76c71903",
   "metadata": {},
   "outputs": [],
   "source": [
    "import numpy as np\n",
    "import pandas as pd"
   ]
  },
  {
   "cell_type": "code",
   "execution_count": 2,
   "id": "2c62b809",
   "metadata": {},
   "outputs": [
    {
     "data": {
      "text/plain": [
       "array([[1, 1, 1],\n",
       "       [1, 1, 1]], dtype=int8)"
      ]
     },
     "execution_count": 2,
     "metadata": {},
     "output_type": "execute_result"
    }
   ],
   "source": [
    "np.ones((2,3),dtype=np.int8)"
   ]
  },
  {
   "cell_type": "code",
   "execution_count": 3,
   "id": "877d13c9",
   "metadata": {},
   "outputs": [
    {
     "data": {
      "text/plain": [
       "array([[0., 0., 0.],\n",
       "       [0., 0., 0.]])"
      ]
     },
     "execution_count": 3,
     "metadata": {},
     "output_type": "execute_result"
    }
   ],
   "source": [
    "np.zeros((2,3),dtype=np.float64)"
   ]
  },
  {
   "cell_type": "code",
   "execution_count": 4,
   "id": "33161c78",
   "metadata": {},
   "outputs": [
    {
     "data": {
      "text/plain": [
       "array([[[0.03636432, 0.94773226, 0.91022875],\n",
       "        [0.97497261, 0.85517602, 0.27414276]],\n",
       "\n",
       "       [[0.5273971 , 0.14312515, 0.22112065],\n",
       "        [0.02844663, 0.26606161, 0.50867587]]])"
      ]
     },
     "execution_count": 4,
     "metadata": {},
     "output_type": "execute_result"
    }
   ],
   "source": [
    "np.random.rand(2,2,3)"
   ]
  },
  {
   "cell_type": "code",
   "execution_count": 5,
   "id": "273de8d3",
   "metadata": {},
   "outputs": [
    {
     "data": {
      "text/plain": [
       "0.3903379689351213"
      ]
     },
     "execution_count": 5,
     "metadata": {},
     "output_type": "execute_result"
    }
   ],
   "source": [
    "np.random.rand()"
   ]
  },
  {
   "cell_type": "code",
   "execution_count": 6,
   "id": "3b759c30",
   "metadata": {},
   "outputs": [
    {
     "data": {
      "text/plain": [
       "array([[0.5488135 , 0.71518937, 0.60276338],\n",
       "       [0.54488318, 0.4236548 , 0.64589411]])"
      ]
     },
     "execution_count": 6,
     "metadata": {},
     "output_type": "execute_result"
    }
   ],
   "source": [
    "np.random.seed(0)\n",
    "np.random.rand(2,3)"
   ]
  },
  {
   "cell_type": "code",
   "execution_count": 7,
   "id": "99fdeca2",
   "metadata": {},
   "outputs": [
    {
     "data": {
      "text/plain": [
       "array([[0.5488135 , 0.71518937, 0.60276338],\n",
       "       [0.54488318, 0.4236548 , 0.64589411]])"
      ]
     },
     "execution_count": 7,
     "metadata": {},
     "output_type": "execute_result"
    }
   ],
   "source": [
    "np.random.seed(0)\n",
    "np.random.rand(2,3)"
   ]
  },
  {
   "cell_type": "code",
   "execution_count": 8,
   "id": "f91d888a",
   "metadata": {},
   "outputs": [
    {
     "data": {
      "text/plain": [
       "array([1, 2, 3])"
      ]
     },
     "execution_count": 8,
     "metadata": {},
     "output_type": "execute_result"
    }
   ],
   "source": [
    "x=[1,2,3]\n",
    "a=np.array(x)\n",
    "a"
   ]
  },
  {
   "cell_type": "code",
   "execution_count": 9,
   "id": "fb4c7e0f",
   "metadata": {},
   "outputs": [
    {
     "data": {
      "text/plain": [
       "5"
      ]
     },
     "execution_count": 9,
     "metadata": {},
     "output_type": "execute_result"
    }
   ],
   "source": [
    "x=[[1,2,3],[2,3,5]]\n",
    "a=np.array(x)\n",
    "a[1,2]"
   ]
  },
  {
   "cell_type": "code",
   "execution_count": 10,
   "id": "0d0ac377",
   "metadata": {},
   "outputs": [
    {
     "data": {
      "text/plain": [
       "array([[  9,  20,  33],\n",
       "       [270, 522, 630]])"
      ]
     },
     "execution_count": 10,
     "metadata": {},
     "output_type": "execute_result"
    }
   ],
   "source": [
    "a=np.array([[1,2,3],[5,6,7]])\n",
    "b=np.array([[9,10,11],[54,87,90]])\n",
    "c=np.multiply(a,b)\n",
    "c          "
   ]
  },
  {
   "cell_type": "code",
   "execution_count": 11,
   "id": "d12dddb0",
   "metadata": {},
   "outputs": [
    {
     "data": {
      "text/plain": [
       "array([[ 23,  37,  41],\n",
       "       [ 67, 113, 117]])"
      ]
     },
     "execution_count": 11,
     "metadata": {},
     "output_type": "execute_result"
    }
   ],
   "source": [
    "b=np.array([[2,6,8],[6,8,0],[3,5,11]])\n",
    "c=np.matmul(a,b)\n",
    "c"
   ]
  },
  {
   "cell_type": "code",
   "execution_count": 12,
   "id": "3840d4e1",
   "metadata": {},
   "outputs": [
    {
     "data": {
      "text/plain": [
       "16"
      ]
     },
     "execution_count": 12,
     "metadata": {},
     "output_type": "execute_result"
    }
   ],
   "source": [
    "a=np.array([1,2])\n",
    "b=np.array([4,6])\n",
    "c=np.dot(a,b)\n",
    "c"
   ]
  },
  {
   "cell_type": "code",
   "execution_count": 13,
   "id": "ed1e52ef",
   "metadata": {},
   "outputs": [
    {
     "data": {
      "text/plain": [
       "array([178, -89,  76])"
      ]
     },
     "execution_count": 13,
     "metadata": {},
     "output_type": "execute_result"
    }
   ],
   "source": [
    "x=np.array([1,2])\n",
    "y=np.array([7,90,89])\n",
    "c=np.cross(x,y)\n",
    "c"
   ]
  },
  {
   "cell_type": "code",
   "execution_count": 14,
   "id": "e83f651b",
   "metadata": {},
   "outputs": [
    {
     "data": {
      "text/plain": [
       "array([[ 1.2465374 , -0.00277008],\n",
       "       [-0.1232687 ,  0.00138504]])"
      ]
     },
     "execution_count": 14,
     "metadata": {},
     "output_type": "execute_result"
    }
   ],
   "source": [
    "x=np.array([[1,2],[89,900]])\n",
    "inverse=np.linalg.inv(x)\n",
    "inverse"
   ]
  },
  {
   "cell_type": "code",
   "execution_count": 15,
   "id": "e96517f5",
   "metadata": {},
   "outputs": [
    {
     "data": {
      "text/plain": [
       "array([[  1,  89],\n",
       "       [  2, 900]])"
      ]
     },
     "execution_count": 15,
     "metadata": {},
     "output_type": "execute_result"
    }
   ],
   "source": [
    "t=np.transpose(x)\n",
    "t"
   ]
  },
  {
   "cell_type": "code",
   "execution_count": 16,
   "id": "e0140792",
   "metadata": {},
   "outputs": [
    {
     "data": {
      "text/plain": [
       "721.9999999999998"
      ]
     },
     "execution_count": 16,
     "metadata": {},
     "output_type": "execute_result"
    }
   ],
   "source": [
    "det=np.linalg.det(x)\n",
    "det"
   ]
  },
  {
   "cell_type": "code",
   "execution_count": 17,
   "id": "8ccafdfa",
   "metadata": {},
   "outputs": [
    {
     "data": {
      "text/plain": [
       "(2, 2)"
      ]
     },
     "execution_count": 17,
     "metadata": {},
     "output_type": "execute_result"
    }
   ],
   "source": [
    "x.shape"
   ]
  },
  {
   "cell_type": "code",
   "execution_count": 18,
   "id": "1693c827",
   "metadata": {},
   "outputs": [],
   "source": [
    "df=pd.read_csv(\"example.csv\")"
   ]
  },
  {
   "cell_type": "code",
   "execution_count": 19,
   "id": "e91d2c13",
   "metadata": {},
   "outputs": [
    {
     "name": "stdout",
     "output_type": "stream",
     "text": [
      "    SL.No  Attribute A  Attribute B Attribute C\n",
      "0       1         12.0           44           A\n",
      "1       2          NaN           22           B\n",
      "2       3         31.0           13           A\n",
      "3       4         19.0           13           C\n",
      "4       5         22.0           24           A\n",
      "5       6          NaN           45           C\n",
      "6       7         41.0           21           C\n",
      "7       8         22.0           78           B\n",
      "8       9         90.0           21         NaN\n",
      "9      10         81.0           45           B\n",
      "10     11          NaN           22           A\n",
      "11     12         56.0           35           C\n",
      "12     13         33.0           67           A\n",
      "13     14         21.0           12           C\n",
      "14     15         78.0           14           C\n"
     ]
    }
   ],
   "source": [
    "print(df)"
   ]
  },
  {
   "cell_type": "code",
   "execution_count": 20,
   "id": "612b5d04",
   "metadata": {},
   "outputs": [
    {
     "name": "stdout",
     "output_type": "stream",
     "text": [
      "['SL.No', 'Attribute A', 'Attribute B', 'Attribute C']\n"
     ]
    }
   ],
   "source": [
    "print(list(df.columns))"
   ]
  },
  {
   "cell_type": "code",
   "execution_count": 21,
   "id": "ce0c964f",
   "metadata": {},
   "outputs": [
    {
     "name": "stdout",
     "output_type": "stream",
     "text": [
      "[1, 2, 3, 4, 5, 6, 7, 8, 9, 10, 11, 12, 13, 14, 15]\n"
     ]
    }
   ],
   "source": [
    "print(list(df['SL.No']))"
   ]
  },
  {
   "cell_type": "code",
   "execution_count": 22,
   "id": "9c89b5c7",
   "metadata": {},
   "outputs": [
    {
     "name": "stdout",
     "output_type": "stream",
     "text": [
      "[2, nan, 22, 'B']\n"
     ]
    }
   ],
   "source": [
    "print(list(df.iloc[1]))"
   ]
  },
  {
   "cell_type": "code",
   "execution_count": 23,
   "id": "1a6ac82e",
   "metadata": {},
   "outputs": [
    {
     "name": "stdout",
     "output_type": "stream",
     "text": [
      "[12.0, nan, 31.0, 19.0, 22.0, nan, 41.0, 22.0, 90.0, 81.0, nan, 56.0, 33.0, 21.0, 78.0]\n"
     ]
    }
   ],
   "source": [
    "print(list(df.iloc[:,1]))"
   ]
  },
  {
   "cell_type": "code",
   "execution_count": 24,
   "id": "27f53f96",
   "metadata": {},
   "outputs": [
    {
     "name": "stdout",
     "output_type": "stream",
     "text": [
      "   SL.No  Attribute A  Attribute B Attribute C\n",
      "0      1         12.0           44           A\n",
      "1      2          NaN           22           B\n"
     ]
    }
   ],
   "source": [
    "print(df[0:2])"
   ]
  },
  {
   "cell_type": "code",
   "execution_count": 25,
   "id": "29a9c3ba",
   "metadata": {},
   "outputs": [
    {
     "name": "stdout",
     "output_type": "stream",
     "text": [
      "SL.No           8.000000\n",
      "Attribute A    42.166667\n",
      "Attribute B    31.733333\n",
      "dtype: float64\n"
     ]
    }
   ],
   "source": [
    "print(df.mean(axis=0,skipna=True))"
   ]
  },
  {
   "cell_type": "code",
   "execution_count": 26,
   "id": "a13119ca",
   "metadata": {},
   "outputs": [],
   "source": [
    "g=df.groupby(by='Attribute A')"
   ]
  },
  {
   "cell_type": "code",
   "execution_count": 27,
   "id": "34b48c31",
   "metadata": {},
   "outputs": [
    {
     "name": "stdout",
     "output_type": "stream",
     "text": [
      "12.0    SL.No  Attribute A  Attribute B Attribute C\n",
      "0      1         12.0           44           A\n",
      "19.0    SL.No  Attribute A  Attribute B Attribute C\n",
      "3      4         19.0           13           C\n",
      "21.0     SL.No  Attribute A  Attribute B Attribute C\n",
      "13     14         21.0           12           C\n",
      "22.0    SL.No  Attribute A  Attribute B Attribute C\n",
      "4      5         22.0           24           A\n",
      "7      8         22.0           78           B\n",
      "31.0    SL.No  Attribute A  Attribute B Attribute C\n",
      "2      3         31.0           13           A\n",
      "33.0     SL.No  Attribute A  Attribute B Attribute C\n",
      "12     13         33.0           67           A\n",
      "41.0    SL.No  Attribute A  Attribute B Attribute C\n",
      "6      7         41.0           21           C\n",
      "56.0     SL.No  Attribute A  Attribute B Attribute C\n",
      "11     12         56.0           35           C\n",
      "78.0     SL.No  Attribute A  Attribute B Attribute C\n",
      "14     15         78.0           14           C\n",
      "81.0    SL.No  Attribute A  Attribute B Attribute C\n",
      "9     10         81.0           45           B\n",
      "90.0    SL.No  Attribute A  Attribute B Attribute C\n",
      "8      9         90.0           21         NaN\n"
     ]
    }
   ],
   "source": [
    "for grp, grpdata in g:\n",
    "    print(grp,grpdata)"
   ]
  },
  {
   "cell_type": "code",
   "execution_count": 28,
   "id": "bccd2112",
   "metadata": {},
   "outputs": [
    {
     "name": "stdout",
     "output_type": "stream",
     "text": [
      "    SL.No  Attribute A  Attribute B Attribute C\n",
      "0       1         12.0           44           A\n",
      "1       2          NaN           22           B\n",
      "2       3         31.0           13           A\n",
      "3       4         19.0           13           C\n",
      "4       5         22.0           24           A\n",
      "5       6          NaN           45           C\n",
      "6       7         41.0           21           C\n",
      "7       8         22.0           78           B\n",
      "8       9         90.0           21         NaN\n",
      "9      10         81.0           45           B\n",
      "10     11          NaN           22           A\n",
      "11     12         56.0           35           C\n",
      "12     13         33.0           67           A\n",
      "13     14         21.0           12           C\n",
      "14     15         78.0           14           C\n"
     ]
    }
   ],
   "source": [
    "print(df)"
   ]
  },
  {
   "cell_type": "code",
   "execution_count": 29,
   "id": "49b7b855",
   "metadata": {},
   "outputs": [],
   "source": [
    "df.fillna(method=\"ffill\",inplace=True)"
   ]
  },
  {
   "cell_type": "code",
   "execution_count": 30,
   "id": "7fe95346",
   "metadata": {},
   "outputs": [
    {
     "data": {
      "text/html": [
       "<div>\n",
       "<style scoped>\n",
       "    .dataframe tbody tr th:only-of-type {\n",
       "        vertical-align: middle;\n",
       "    }\n",
       "\n",
       "    .dataframe tbody tr th {\n",
       "        vertical-align: top;\n",
       "    }\n",
       "\n",
       "    .dataframe thead th {\n",
       "        text-align: right;\n",
       "    }\n",
       "</style>\n",
       "<table border=\"1\" class=\"dataframe\">\n",
       "  <thead>\n",
       "    <tr style=\"text-align: right;\">\n",
       "      <th></th>\n",
       "      <th>SL.No</th>\n",
       "      <th>Attribute A</th>\n",
       "      <th>Attribute B</th>\n",
       "      <th>Attribute C</th>\n",
       "    </tr>\n",
       "  </thead>\n",
       "  <tbody>\n",
       "    <tr>\n",
       "      <th>0</th>\n",
       "      <td>1</td>\n",
       "      <td>12.0</td>\n",
       "      <td>44</td>\n",
       "      <td>A</td>\n",
       "    </tr>\n",
       "    <tr>\n",
       "      <th>1</th>\n",
       "      <td>2</td>\n",
       "      <td>12.0</td>\n",
       "      <td>22</td>\n",
       "      <td>B</td>\n",
       "    </tr>\n",
       "    <tr>\n",
       "      <th>2</th>\n",
       "      <td>3</td>\n",
       "      <td>31.0</td>\n",
       "      <td>13</td>\n",
       "      <td>A</td>\n",
       "    </tr>\n",
       "    <tr>\n",
       "      <th>3</th>\n",
       "      <td>4</td>\n",
       "      <td>19.0</td>\n",
       "      <td>13</td>\n",
       "      <td>C</td>\n",
       "    </tr>\n",
       "    <tr>\n",
       "      <th>4</th>\n",
       "      <td>5</td>\n",
       "      <td>22.0</td>\n",
       "      <td>24</td>\n",
       "      <td>A</td>\n",
       "    </tr>\n",
       "    <tr>\n",
       "      <th>5</th>\n",
       "      <td>6</td>\n",
       "      <td>22.0</td>\n",
       "      <td>45</td>\n",
       "      <td>C</td>\n",
       "    </tr>\n",
       "    <tr>\n",
       "      <th>6</th>\n",
       "      <td>7</td>\n",
       "      <td>41.0</td>\n",
       "      <td>21</td>\n",
       "      <td>C</td>\n",
       "    </tr>\n",
       "    <tr>\n",
       "      <th>7</th>\n",
       "      <td>8</td>\n",
       "      <td>22.0</td>\n",
       "      <td>78</td>\n",
       "      <td>B</td>\n",
       "    </tr>\n",
       "    <tr>\n",
       "      <th>8</th>\n",
       "      <td>9</td>\n",
       "      <td>90.0</td>\n",
       "      <td>21</td>\n",
       "      <td>B</td>\n",
       "    </tr>\n",
       "    <tr>\n",
       "      <th>9</th>\n",
       "      <td>10</td>\n",
       "      <td>81.0</td>\n",
       "      <td>45</td>\n",
       "      <td>B</td>\n",
       "    </tr>\n",
       "    <tr>\n",
       "      <th>10</th>\n",
       "      <td>11</td>\n",
       "      <td>81.0</td>\n",
       "      <td>22</td>\n",
       "      <td>A</td>\n",
       "    </tr>\n",
       "    <tr>\n",
       "      <th>11</th>\n",
       "      <td>12</td>\n",
       "      <td>56.0</td>\n",
       "      <td>35</td>\n",
       "      <td>C</td>\n",
       "    </tr>\n",
       "    <tr>\n",
       "      <th>12</th>\n",
       "      <td>13</td>\n",
       "      <td>33.0</td>\n",
       "      <td>67</td>\n",
       "      <td>A</td>\n",
       "    </tr>\n",
       "    <tr>\n",
       "      <th>13</th>\n",
       "      <td>14</td>\n",
       "      <td>21.0</td>\n",
       "      <td>12</td>\n",
       "      <td>C</td>\n",
       "    </tr>\n",
       "    <tr>\n",
       "      <th>14</th>\n",
       "      <td>15</td>\n",
       "      <td>78.0</td>\n",
       "      <td>14</td>\n",
       "      <td>C</td>\n",
       "    </tr>\n",
       "  </tbody>\n",
       "</table>\n",
       "</div>"
      ],
      "text/plain": [
       "    SL.No  Attribute A  Attribute B Attribute C\n",
       "0       1         12.0           44           A\n",
       "1       2         12.0           22           B\n",
       "2       3         31.0           13           A\n",
       "3       4         19.0           13           C\n",
       "4       5         22.0           24           A\n",
       "5       6         22.0           45           C\n",
       "6       7         41.0           21           C\n",
       "7       8         22.0           78           B\n",
       "8       9         90.0           21           B\n",
       "9      10         81.0           45           B\n",
       "10     11         81.0           22           A\n",
       "11     12         56.0           35           C\n",
       "12     13         33.0           67           A\n",
       "13     14         21.0           12           C\n",
       "14     15         78.0           14           C"
      ]
     },
     "execution_count": 30,
     "metadata": {},
     "output_type": "execute_result"
    }
   ],
   "source": [
    "df"
   ]
  },
  {
   "cell_type": "code",
   "execution_count": 31,
   "id": "870b09aa",
   "metadata": {},
   "outputs": [],
   "source": [
    "def create_numpy_ones_array(shape):\n",
    "\t#return a numpy array with one at all index\n",
    "\tarray=None\n",
    "\tarray=np.ones(shape)\n",
    "\treturn array"
   ]
  },
  {
   "cell_type": "code",
   "execution_count": 32,
   "id": "c7b58aff",
   "metadata": {},
   "outputs": [
    {
     "data": {
      "text/plain": [
       "array([[1., 1., 1.],\n",
       "       [1., 1., 1.]])"
      ]
     },
     "execution_count": 32,
     "metadata": {},
     "output_type": "execute_result"
    }
   ],
   "source": [
    "create_numpy_ones_array((2,3))"
   ]
  },
  {
   "cell_type": "code",
   "execution_count": 33,
   "id": "79086c48",
   "metadata": {},
   "outputs": [],
   "source": [
    "def create_numpy_zeros_array(shape):\n",
    "\t#return a numpy array with zeros at all index\n",
    "\tarray=None\n",
    "\tarray=np.zeros(shape)\n",
    "\treturn array"
   ]
  },
  {
   "cell_type": "code",
   "execution_count": 35,
   "id": "34561744",
   "metadata": {},
   "outputs": [
    {
     "data": {
      "text/plain": [
       "array([[0., 0., 0.],\n",
       "       [0., 0., 0.],\n",
       "       [0., 0., 0.]])"
      ]
     },
     "execution_count": 35,
     "metadata": {},
     "output_type": "execute_result"
    }
   ],
   "source": [
    "create_numpy_zeros_array((3,3))"
   ]
  },
  {
   "cell_type": "code",
   "execution_count": null,
   "id": "389c8199",
   "metadata": {},
   "outputs": [],
   "source": []
  }
 ],
 "metadata": {
  "kernelspec": {
   "display_name": "Python 3",
   "language": "python",
   "name": "python3"
  },
  "language_info": {
   "codemirror_mode": {
    "name": "ipython",
    "version": 3
   },
   "file_extension": ".py",
   "mimetype": "text/x-python",
   "name": "python",
   "nbconvert_exporter": "python",
   "pygments_lexer": "ipython3",
   "version": "3.8.8"
  }
 },
 "nbformat": 4,
 "nbformat_minor": 5
}
