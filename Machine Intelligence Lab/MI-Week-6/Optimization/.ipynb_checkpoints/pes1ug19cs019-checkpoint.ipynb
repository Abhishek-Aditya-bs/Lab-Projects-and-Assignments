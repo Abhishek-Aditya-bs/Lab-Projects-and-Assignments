{
 "cells": [
  {
   "cell_type": "code",
   "execution_count": 1,
   "id": "f9cb2680",
   "metadata": {},
   "outputs": [],
   "source": [
    "from enum import EnumMeta\n",
    "from sklearn.svm import SVC\n",
    "from sklearn.pipeline import Pipeline\n",
    "from sklearn.preprocessing import *\n",
    "import pandas as pd\n",
    "import numpy as np"
   ]
  },
  {
   "cell_type": "code",
   "execution_count": 2,
   "id": "a1befef8",
   "metadata": {},
   "outputs": [],
   "source": [
    "df = pd.read_csv(\"train.csv\")\n",
    "df_test = pd.read_csv(\"test.csv\")"
   ]
  },
  {
   "cell_type": "code",
   "execution_count": 3,
   "id": "d1aa4871",
   "metadata": {},
   "outputs": [],
   "source": [
    "from sklearn.preprocessing import *\n",
    "sc = StandardScaler()\n",
    "X_train = df.iloc[:, 0:-1]\n",
    "y_train = df.iloc[:, -1]\n",
    "X_test = df_test.iloc[:, 0:-1]\n",
    "y_test = df_test.iloc[:, -1]"
   ]
  },
  {
   "cell_type": "code",
   "execution_count": 4,
   "id": "d435213d",
   "metadata": {},
   "outputs": [],
   "source": [
    "pipe1 = Pipeline([('scaler1', MinMaxScaler()),('scaler2', PowerTransformer(standardize=True)), ('svc', SVC(kernel = 'rbf',degree = 1, random_state = 0, C = 2.67, gamma = 6.25e-2 ))])"
   ]
  },
  {
   "cell_type": "code",
   "execution_count": 5,
   "id": "8537f423",
   "metadata": {},
   "outputs": [
    {
     "data": {
      "text/plain": [
       "Pipeline(steps=[('scaler1', MinMaxScaler()), ('scaler2', PowerTransformer()),\n",
       "                ('svc', SVC(C=2.67, degree=1, gamma=0.0625, random_state=0))])"
      ]
     },
     "execution_count": 5,
     "metadata": {},
     "output_type": "execute_result"
    }
   ],
   "source": [
    "pipe1.fit(X_train,y_train)"
   ]
  },
  {
   "cell_type": "code",
   "execution_count": 6,
   "id": "821620a6",
   "metadata": {},
   "outputs": [
    {
     "data": {
      "text/plain": [
       "95.85185185185185"
      ]
     },
     "execution_count": 6,
     "metadata": {},
     "output_type": "execute_result"
    }
   ],
   "source": [
    "pipe1.score(X_train,y_train) * 100"
   ]
  },
  {
   "cell_type": "code",
   "execution_count": 7,
   "id": "6633df9d",
   "metadata": {},
   "outputs": [
    {
     "data": {
      "text/plain": [
       "90.51851851851852"
      ]
     },
     "execution_count": 7,
     "metadata": {},
     "output_type": "execute_result"
    }
   ],
   "source": [
    "pipe1.score(X_test,y_test) * 100"
   ]
  },
  {
   "cell_type": "code",
   "execution_count": null,
   "id": "c055f9c8",
   "metadata": {},
   "outputs": [],
   "source": []
  }
 ],
 "metadata": {
  "kernelspec": {
   "display_name": "Python 3",
   "language": "python",
   "name": "python3"
  },
  "language_info": {
   "codemirror_mode": {
    "name": "ipython",
    "version": 3
   },
   "file_extension": ".py",
   "mimetype": "text/x-python",
   "name": "python",
   "nbconvert_exporter": "python",
   "pygments_lexer": "ipython3",
   "version": "3.8.8"
  }
 },
 "nbformat": 4,
 "nbformat_minor": 5
}
