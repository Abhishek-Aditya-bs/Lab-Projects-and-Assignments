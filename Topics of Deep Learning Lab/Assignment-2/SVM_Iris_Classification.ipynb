{
  "nbformat": 4,
  "nbformat_minor": 0,
  "metadata": {
    "colab": {
      "name": "SVM-Iris-Classification.ipynb",
      "provenance": [],
      "collapsed_sections": []
    },
    "kernelspec": {
      "name": "python3",
      "display_name": "Python 3"
    },
    "language_info": {
      "name": "python"
    }
  },
  "cells": [
    {
      "cell_type": "markdown",
      "source": [
        "# Assignment - 1\n",
        "\n",
        "Name : Abhishek Aditya BS\n",
        "\n",
        "SRN : PES1UG19CS019\n",
        "\n",
        "VI Semester 'A' Section\n",
        "\n",
        "Date : 2-03-2022"
      ],
      "metadata": {
        "id": "CWOlPyiHVhl-"
      }
    },
    {
      "cell_type": "markdown",
      "source": [
        "# Problem Statement - 1 \n",
        "\n",
        "To implement SVM for IRIS dataset using linear kernel/ RBF kernel"
      ],
      "metadata": {
        "id": "LK5RtnbuV2M0"
      }
    },
    {
      "cell_type": "code",
      "execution_count": 13,
      "metadata": {
        "id": "n70B5eArVYZX"
      },
      "outputs": [],
      "source": [
        "import numpy as np\n",
        "import matplotlib.pyplot as plt\n",
        "from sklearn import svm, datasets"
      ]
    },
    {
      "cell_type": "markdown",
      "source": [
        "## Import the IRIS dataset"
      ],
      "metadata": {
        "id": "3jmQzgO-W4Re"
      }
    },
    {
      "cell_type": "code",
      "source": [
        "iris = datasets.load_iris()"
      ],
      "metadata": {
        "id": "6FF67AJUW3dp"
      },
      "execution_count": 14,
      "outputs": []
    },
    {
      "cell_type": "markdown",
      "source": [
        "## Prepare the training data"
      ],
      "metadata": {
        "id": "ha2O1_84XGo3"
      }
    },
    {
      "cell_type": "code",
      "source": [
        "X = iris.data[:, :2]\n",
        "y = iris.target"
      ],
      "metadata": {
        "id": "iG7mm2wgVzWs"
      },
      "execution_count": 15,
      "outputs": []
    },
    {
      "cell_type": "markdown",
      "source": [
        "## Model Creation\n",
        "\n",
        "1. SVM with Linear kernel \n",
        "2. SVM with RBF Kernel"
      ],
      "metadata": {
        "id": "7Gp3zgsuXhr-"
      }
    },
    {
      "cell_type": "code",
      "source": [
        "C = 1.0\n",
        "models = (svm.SVC(kernel='linear', C=C),\n",
        "          svm.SVC(kernel='rbf', gamma=0.7, C=C))\n",
        "\n",
        "models = (clf.fit(X,y) for clf in models)\n"
      ],
      "metadata": {
        "id": "gwoUGA7dXg9S"
      },
      "execution_count": 16,
      "outputs": []
    },
    {
      "cell_type": "markdown",
      "source": [
        "## Make a meshgrid to plot the two models"
      ],
      "metadata": {
        "id": "elUWTLSGYLyR"
      }
    },
    {
      "cell_type": "code",
      "source": [
        "def make_meshgrid(x,y, h=0.02):\n",
        "  x_min, x_max = x.min() - 1, x.max() + 1\n",
        "  y_min, y_max = y.min() - 1, y.max() + 1\n",
        "  xx, yy = np.meshgrid(np.arange(x_min, x_max, h),\n",
        "                       np.arange(y_min, y_max, h))\n",
        "  \n",
        "  return xx,yy"
      ],
      "metadata": {
        "id": "A9meDBHCXKCg"
      },
      "execution_count": 17,
      "outputs": []
    },
    {
      "cell_type": "markdown",
      "source": [
        "## Plotting Contours to plot the decision boundaries for the two classfiers"
      ],
      "metadata": {
        "id": "NDWy1uqEYsJQ"
      }
    },
    {
      "cell_type": "code",
      "source": [
        "def plot_contours(ax, clf, xx, yy, **args):\n",
        "  Z = clf.predict(np.c_[xx.ravel(), yy.ravel()])\n",
        "  Z = Z.reshape(xx.shape)\n",
        "  out = ax.contourf(xx,yy,Z,**args)\n",
        "  return out"
      ],
      "metadata": {
        "id": "VTYMGWqvYnfV"
      },
      "execution_count": 18,
      "outputs": []
    },
    {
      "cell_type": "markdown",
      "source": [
        "## Plotting the results"
      ],
      "metadata": {
        "id": "xXU6k-OGZNUg"
      }
    },
    {
      "cell_type": "code",
      "source": [
        "titles = ('SVC with Linear Kernel', 'SVC with RBF Kernel')\n",
        "\n",
        "fig, sub = plt.subplots(1,2)\n",
        "plt.subplots_adjust(wspace=0.4, hspace=0.4)\n",
        "\n",
        "X0, X1 = X[:, 0], X[:, 1]\n",
        "xx, yy = make_meshgrid(X0, X1)\n",
        "\n",
        "for clf, title, ax in zip(models, titles, sub.flatten()):\n",
        "  plot_contours(ax, clf, xx, yy, cmap=plt.cm.coolwarm, alpha=0.8)\n",
        "  ax.scatter(X0,X1,c=y, cmap=plt.cm.coolwarm, s=20, edgecolors=\"k\")\n",
        "  ax.set_xlim(xx.min(), xx.max())\n",
        "  ax.set_ylim(yy.min(), yy.max())\n",
        "  ax.set_xlabel('Sepal length')\n",
        "  ax.set_ylabel('Sepal width')\n",
        "  ax.set_xticks(())\n",
        "  ax.set_yticks(())\n",
        "  ax.set_title(title)\n",
        "\n",
        "\n",
        "plt.show()\n",
        "                       "
      ],
      "metadata": {
        "colab": {
          "base_uri": "https://localhost:8080/",
          "height": 278
        },
        "id": "KnaRHki0ZGhR",
        "outputId": "12cee334-7267-4a09-bcbf-65f53c59bfca"
      },
      "execution_count": 19,
      "outputs": [
        {
          "output_type": "display_data",
          "data": {
            "image/png": "[encoded data removed]",
            "text/plain": [
              "<Figure size 432x288 with 2 Axes>"
            ]
          },
          "metadata": {}
        }
      ]
    }
  ]
}