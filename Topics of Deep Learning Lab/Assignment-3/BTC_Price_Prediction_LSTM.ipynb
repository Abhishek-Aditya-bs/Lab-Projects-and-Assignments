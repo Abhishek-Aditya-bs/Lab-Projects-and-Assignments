{
  "nbformat": 4,
  "nbformat_minor": 0,
  "metadata": {
    "colab": {
      "name": "BTC_Price_Prediction_LSTM.ipynb",
      "provenance": []
    },
    "kernelspec": {
      "name": "python3",
      "display_name": "Python 3"
    },
    "language_info": {
      "name": "python"
    },
    "accelerator": "GPU"
  },
  "cells": [
    {
      "cell_type": "markdown",
      "source": [
        "# LSTM\n",
        "\n",
        "Make a multivariate forecast using a LSTM network on BTC price data. The data is on minute intervals. This network is trained on two inputs: \n",
        "1. average high and low price for every minute \n",
        "2. the volume to produce the forecast.\n",
        "\n",
        "- Name: Abhishek Aditya BS\n",
        "- SRN: PES1UG19CS019\n",
        "- VI Semester 'A' section"
      ],
      "metadata": {
        "id": "NDmSsoixd80q"
      }
    },
    {
      "cell_type": "markdown",
      "source": [
        "# Import the required libraries"
      ],
      "metadata": {
        "id": "Tkf_fK4weZ30"
      }
    },
    {
      "cell_type": "code",
      "execution_count": 1,
      "metadata": {
        "id": "UdUPLW7gdfS4"
      },
      "outputs": [],
      "source": [
        "import numpy as np\n",
        "import pandas as pd\n",
        "import matplotlib.pyplot as plt\n",
        "%matplotlib inline"
      ]
    },
    {
      "cell_type": "markdown",
      "source": [
        "# Convert the data to a dataframe"
      ],
      "metadata": {
        "id": "QkqlqkYKeoAY"
      }
    },
    {
      "cell_type": "code",
      "source": [
        "stock_data = pd.read_csv(\"/content/BTC_sm_nc.csv\")\n",
        "stock_data.head()"
      ],
      "metadata": {
        "colab": {
          "base_uri": "https://localhost:8080/",
          "height": 206
        },
        "id": "wBUBqcYpelQP",
        "outputId": "bbca8ee8-d412-4e43-8d32-88199d951273"
      },
      "execution_count": 2,
      "outputs": [
        {
          "output_type": "execute_result",
          "data": {
            "text/plain": [
              "                  time   close    high     low    open  volume\n",
              "0  1483228740000000000  968.29  968.29  968.29  968.29       0\n",
              "1  1483228800000000000  968.70  968.76  968.49  968.29   12993\n",
              "2  1483228860000000000  968.43  968.70  967.20  968.70   73800\n",
              "3  1483228920000000000  967.21  968.00  967.21  968.43    3500\n",
              "4  1483228980000000000  966.97  967.21  966.74  967.21   15969"
            ],
            "text/html": [
              "\n",
              "  <div id=\"df-3fc5ca2b-6427-45ee-ab88-f56c35749252\">\n",
              "    <div class=\"colab-df-container\">\n",
              "      <div>\n",
              "<style scoped>\n",
              "    .dataframe tbody tr th:only-of-type {\n",
              "        vertical-align: middle;\n",
              "    }\n",
              "\n",
              "    .dataframe tbody tr th {\n",
              "        vertical-align: top;\n",
              "    }\n",
              "\n",
              "    .dataframe thead th {\n",
              "        text-align: right;\n",
              "    }\n",
              "</style>\n",
              "<table border=\"1\" class=\"dataframe\">\n",
              "  <thead>\n",
              "    <tr style=\"text-align: right;\">\n",
              "      <th></th>\n",
              "      <th>time</th>\n",
              "      <th>close</th>\n",
              "      <th>high</th>\n",
              "      <th>low</th>\n",
              "      <th>open</th>\n",
              "      <th>volume</th>\n",
              "    </tr>\n",
              "  </thead>\n",
              "  <tbody>\n",
              "    <tr>\n",
              "      <th>0</th>\n",
              "      <td>1483228740000000000</td>\n",
              "      <td>968.29</td>\n",
              "      <td>968.29</td>\n",
              "      <td>968.29</td>\n",
              "      <td>968.29</td>\n",
              "      <td>0</td>\n",
              "    </tr>\n",
              "    <tr>\n",
              "      <th>1</th>\n",
              "      <td>1483228800000000000</td>\n",
              "      <td>968.70</td>\n",
              "      <td>968.76</td>\n",
              "      <td>968.49</td>\n",
              "      <td>968.29</td>\n",
              "      <td>12993</td>\n",
              "    </tr>\n",
              "    <tr>\n",
              "      <th>2</th>\n",
              "      <td>1483228860000000000</td>\n",
              "      <td>968.43</td>\n",
              "      <td>968.70</td>\n",
              "      <td>967.20</td>\n",
              "      <td>968.70</td>\n",
              "      <td>73800</td>\n",
              "    </tr>\n",
              "    <tr>\n",
              "      <th>3</th>\n",
              "      <td>1483228920000000000</td>\n",
              "      <td>967.21</td>\n",
              "      <td>968.00</td>\n",
              "      <td>967.21</td>\n",
              "      <td>968.43</td>\n",
              "      <td>3500</td>\n",
              "    </tr>\n",
              "    <tr>\n",
              "      <th>4</th>\n",
              "      <td>1483228980000000000</td>\n",
              "      <td>966.97</td>\n",
              "      <td>967.21</td>\n",
              "      <td>966.74</td>\n",
              "      <td>967.21</td>\n",
              "      <td>15969</td>\n",
              "    </tr>\n",
              "  </tbody>\n",
              "</table>\n",
              "</div>\n",
              "      <button class=\"colab-df-convert\" onclick=\"convertToInteractive('df-3fc5ca2b-6427-45ee-ab88-f56c35749252')\"\n",
              "              title=\"Convert this dataframe to an interactive table.\"\n",
              "              style=\"display:none;\">\n",
              "        \n",
              "  <svg xmlns=\"http://www.w3.org/2000/svg\" height=\"24px\"viewBox=\"0 0 24 24\"\n",
              "       width=\"24px\">\n",
              "    <path d=\"M0 0h24v24H0V0z\" fill=\"none\"/>\n",
              "    <path d=\"M18.56 5.44l.94 2.06.94-2.06 2.06-.94-2.06-.94-.94-2.06-.94 2.06-2.06.94zm-11 1L8.5 8.5l.94-2.06 2.06-.94-2.06-.94L8.5 2.5l-.94 2.06-2.06.94zm10 10l.94 2.06.94-2.06 2.06-.94-2.06-.94-.94-2.06-.94 2.06-2.06.94z\"/><path d=\"M17.41 7.96l-1.37-1.37c-.4-.4-.92-.59-1.43-.59-.52 0-1.04.2-1.43.59L10.3 9.45l-7.72 7.72c-.78.78-.78 2.05 0 2.83L4 21.41c.39.39.9.59 1.41.59.51 0 1.02-.2 1.41-.59l7.78-7.78 2.81-2.81c.8-.78.8-2.07 0-2.86zM5.41 20L4 18.59l7.72-7.72 1.47 1.35L5.41 20z\"/>\n",
              "  </svg>\n",
              "      </button>\n",
              "      \n",
              "  <style>\n",
              "    .colab-df-container {\n",
              "      display:flex;\n",
              "      flex-wrap:wrap;\n",
              "      gap: 12px;\n",
              "    }\n",
              "\n",
              "    .colab-df-convert {\n",
              "      background-color: #E8F0FE;\n",
              "      border: none;\n",
              "      border-radius: 50%;\n",
              "      cursor: pointer;\n",
              "      display: none;\n",
              "      fill: #1967D2;\n",
              "      height: 32px;\n",
              "      padding: 0 0 0 0;\n",
              "      width: 32px;\n",
              "    }\n",
              "\n",
              "    .colab-df-convert:hover {\n",
              "      background-color: #E2EBFA;\n",
              "      box-shadow: 0px 1px 2px rgba(60, 64, 67, 0.3), 0px 1px 3px 1px rgba(60, 64, 67, 0.15);\n",
              "      fill: #174EA6;\n",
              "    }\n",
              "\n",
              "    [theme=dark] .colab-df-convert {\n",
              "      background-color: #3B4455;\n",
              "      fill: #D2E3FC;\n",
              "    }\n",
              "\n",
              "    [theme=dark] .colab-df-convert:hover {\n",
              "      background-color: #434B5C;\n",
              "      box-shadow: 0px 1px 3px 1px rgba(0, 0, 0, 0.15);\n",
              "      filter: drop-shadow(0px 1px 2px rgba(0, 0, 0, 0.3));\n",
              "      fill: #FFFFFF;\n",
              "    }\n",
              "  </style>\n",
              "\n",
              "      <script>\n",
              "        const buttonEl =\n",
              "          document.querySelector('#df-3fc5ca2b-6427-45ee-ab88-f56c35749252 button.colab-df-convert');\n",
              "        buttonEl.style.display =\n",
              "          google.colab.kernel.accessAllowed ? 'block' : 'none';\n",
              "\n",
              "        async function convertToInteractive(key) {\n",
              "          const element = document.querySelector('#df-3fc5ca2b-6427-45ee-ab88-f56c35749252');\n",
              "          const dataTable =\n",
              "            await google.colab.kernel.invokeFunction('convertToInteractive',\n",
              "                                                     [key], {});\n",
              "          if (!dataTable) return;\n",
              "\n",
              "          const docLinkHtml = 'Like what you see? Visit the ' +\n",
              "            '<a target=\"_blank\" href=https://colab.research.google.com/notebooks/data_table.ipynb>data table notebook</a>'\n",
              "            + ' to learn more about interactive tables.';\n",
              "          element.innerHTML = '';\n",
              "          dataTable['output_type'] = 'display_data';\n",
              "          await google.colab.output.renderOutput(dataTable, element);\n",
              "          const docLink = document.createElement('div');\n",
              "          docLink.innerHTML = docLinkHtml;\n",
              "          element.appendChild(docLink);\n",
              "        }\n",
              "      </script>\n",
              "    </div>\n",
              "  </div>\n",
              "  "
            ]
          },
          "metadata": {},
          "execution_count": 2
        }
      ]
    },
    {
      "cell_type": "code",
      "source": [
        "stock_data.info()"
      ],
      "metadata": {
        "colab": {
          "base_uri": "https://localhost:8080/"
        },
        "id": "0Hy7Sm5veuxt",
        "outputId": "982cad62-de3e-4913-ff97-9870875dd6a7"
      },
      "execution_count": 3,
      "outputs": [
        {
          "output_type": "stream",
          "name": "stdout",
          "text": [
            "<class 'pandas.core.frame.DataFrame'>\n",
            "RangeIndex: 100 entries, 0 to 99\n",
            "Data columns (total 6 columns):\n",
            " #   Column  Non-Null Count  Dtype  \n",
            "---  ------  --------------  -----  \n",
            " 0   time    100 non-null    int64  \n",
            " 1   close   100 non-null    float64\n",
            " 2   high    100 non-null    float64\n",
            " 3   low     100 non-null    float64\n",
            " 4   open    100 non-null    float64\n",
            " 5   volume  100 non-null    int64  \n",
            "dtypes: float64(4), int64(2)\n",
            "memory usage: 4.8 KB\n"
          ]
        }
      ]
    },
    {
      "cell_type": "code",
      "source": [
        "import math\n",
        "stock_data[\"average\"] = (stock_data[\"high\"] + stock_data[\"low\"])/2\n",
        "input_feature= stock_data.iloc[:,[2,6]].values\n",
        "input_data = input_feature\n",
        "input_data[0:2]"
      ],
      "metadata": {
        "colab": {
          "base_uri": "https://localhost:8080/"
        },
        "id": "UeEwMgItexuR",
        "outputId": "15d9bbdc-cd22-4865-c3d0-7a75efee5472"
      },
      "execution_count": 4,
      "outputs": [
        {
          "output_type": "execute_result",
          "data": {
            "text/plain": [
              "array([[968.29 , 968.29 ],\n",
              "       [968.76 , 968.625]])"
            ]
          },
          "metadata": {},
          "execution_count": 4
        }
      ]
    },
    {
      "cell_type": "markdown",
      "source": [
        "# Visualize the dataset"
      ],
      "metadata": {
        "id": "fb_dyTVrfJ6r"
      }
    },
    {
      "cell_type": "code",
      "source": [
        "plt.plot(input_feature[:,0])\n",
        "plt.title(\"Volume of stocks sold\")\n",
        "plt.xlabel(\"Time\")\n",
        "plt.ylabel(\"Volume of stocks traded\")\n",
        "plt.show()"
      ],
      "metadata": {
        "colab": {
          "base_uri": "https://localhost:8080/",
          "height": 295
        },
        "id": "gV-UkV43fF3i",
        "outputId": "1c98b9c8-a137-431c-a8af-a0ce09a92fba"
      },
      "execution_count": 5,
      "outputs": [
        {
          "output_type": "display_data",
          "data": {
            "text/plain": [
              "<Figure size 432x288 with 1 Axes>"
            ],
            "image/png": "[encoded data removed]"
          },
          "metadata": {
            "needs_background": "light"
          }
        }
      ]
    },
    {
      "cell_type": "code",
      "source": [
        "plt.plot(input_feature[:,1], color='blue')\n",
        "plt.title(\"BTC Stock Prices\")\n",
        "plt.xlabel(\"Time\")\n",
        "plt.ylabel(\"Stock Opening Price\")\n",
        "plt.show()"
      ],
      "metadata": {
        "colab": {
          "base_uri": "https://localhost:8080/",
          "height": 295
        },
        "id": "gbm8sMNAfNlU",
        "outputId": "78762cdd-0aaf-4817-816b-a2c16894203f"
      },
      "execution_count": 6,
      "outputs": [
        {
          "output_type": "display_data",
          "data": {
            "text/plain": [
              "<Figure size 432x288 with 1 Axes>"
            ],
            "image/png": "[encoded data removed]"
          },
          "metadata": {
            "needs_background": "light"
          }
        }
      ]
    },
    {
      "cell_type": "markdown",
      "source": [
        "# Preprocess the dataset"
      ],
      "metadata": {
        "id": "IVHm2GOIfUgn"
      }
    },
    {
      "cell_type": "code",
      "source": [
        "from sklearn.preprocessing import MinMaxScaler\n",
        "sc= MinMaxScaler(feature_range=(0,1))\n",
        "input_data[:,0:2] = sc.fit_transform(input_feature[:,:])"
      ],
      "metadata": {
        "id": "qAzyVQp1fQRy"
      },
      "execution_count": 7,
      "outputs": []
    },
    {
      "cell_type": "markdown",
      "source": [
        "### Loop through all the samples and for each day we go back 10 minutes in the past and add the volume of the stocks traded an average stock price."
      ],
      "metadata": {
        "id": "oavosve9fhlj"
      }
    },
    {
      "cell_type": "code",
      "source": [
        "lookback= 10\n",
        "\n",
        "test_size=int(.3 * len(stock_data))\n",
        "X=[]\n",
        "y=[]\n",
        "for i in range(len(stock_data)-lookback-1):\n",
        "    t=[]\n",
        "    for j in range(0,lookback):\n",
        "        \n",
        "        t.append(input_data[[(i+j)], :])\n",
        "    X.append(t)\n",
        "    y.append(input_data[i+ lookback,1])"
      ],
      "metadata": {
        "id": "QohczG8yfgrE"
      },
      "execution_count": 8,
      "outputs": []
    },
    {
      "cell_type": "code",
      "source": [
        "print(\"test_size\")\n",
        "print(test_size)\n",
        "print(\"length of stock_data\")\n",
        "print(len(stock_data))\n",
        "print(\"length of X\")\n",
        "print(len(X))\n",
        "print(\"first 5 points of y\")\n",
        "print(y[0:5])\n",
        "print(\"points 10-15 of input_data\")\n",
        "print(input_data[10:15,1])"
      ],
      "metadata": {
        "colab": {
          "base_uri": "https://localhost:8080/"
        },
        "id": "TRx00X7UfqnK",
        "outputId": "53f32b06-6a19-4790-da29-5dcbc6627e4e"
      },
      "execution_count": 9,
      "outputs": [
        {
          "output_type": "stream",
          "name": "stdout",
          "text": [
            "test_size\n",
            "30\n",
            "length of stock_data\n",
            "100\n",
            "length of X\n",
            "89\n",
            "first 5 points of y\n",
            "[0.6248648648648611, 0.6248648648648611, 0.5070270270270214, 0.30810810810808675, 0.21621621621622467]\n",
            "points 10-15 of input_data\n",
            "[0.62486486 0.62486486 0.50702703 0.30810811 0.21621622]\n"
          ]
        }
      ]
    },
    {
      "cell_type": "code",
      "source": [
        "X, y= np.array(X), np.array(y)\n",
        "X_test = X[:test_size+lookback]\n",
        "X = X.reshape(X.shape[0],lookback, 2)\n",
        "X_test = X_test.reshape(X_test.shape[0],lookback, 2)\n",
        "print(X.shape)\n",
        "print(X_test.shape)\n",
        "print(X[1])"
      ],
      "metadata": {
        "colab": {
          "base_uri": "https://localhost:8080/"
        },
        "id": "Rv5UIhjrf1fr",
        "outputId": "efa89eb9-7f75-416f-f761-6b2645ede11c"
      },
      "execution_count": 10,
      "outputs": [
        {
          "output_type": "stream",
          "name": "stdout",
          "text": [
            "(89, 10, 2)\n",
            "(40, 10, 2)\n",
            "[[1.         1.        ]\n",
            " [0.98739496 0.85405405]\n",
            " [0.84033613 0.77945946]\n",
            " [0.67436975 0.64324324]\n",
            " [0.62394958 0.64216216]\n",
            " [0.6302521  0.64864865]\n",
            " [0.60714286 0.62486486]\n",
            " [0.60714286 0.62486486]\n",
            " [0.60714286 0.62486486]\n",
            " [0.60714286 0.62486486]]\n"
          ]
        }
      ]
    },
    {
      "cell_type": "markdown",
      "source": [
        "# Build the LSTM Model using Keras"
      ],
      "metadata": {
        "id": "ZVG9I1gVf8uX"
      }
    },
    {
      "cell_type": "code",
      "source": [
        "from keras import Sequential\n",
        "from keras.layers import Dense, LSTM\n",
        "\n",
        "model = Sequential()\n",
        "model.add(LSTM(units=30, return_sequences= True, input_shape=(X.shape[1],2)))\n",
        "model.add(LSTM(units=30, return_sequences=True))\n",
        "model.add(LSTM(units=30))\n",
        "model.add(Dense(units=1))\n",
        "model.summary()"
      ],
      "metadata": {
        "colab": {
          "base_uri": "https://localhost:8080/"
        },
        "id": "KMh0R4a2f4fO",
        "outputId": "596601bc-1392-496d-af64-a7f0e7a4f4b1"
      },
      "execution_count": 11,
      "outputs": [
        {
          "output_type": "stream",
          "name": "stdout",
          "text": [
            "Model: \"sequential\"\n",
            "_________________________________________________________________\n",
            " Layer (type)                Output Shape              Param #   \n",
            "=================================================================\n",
            " lstm (LSTM)                 (None, 10, 30)            3960      \n",
            "                                                                 \n",
            " lstm_1 (LSTM)               (None, 10, 30)            7320      \n",
            "                                                                 \n",
            " lstm_2 (LSTM)               (None, 30)                7320      \n",
            "                                                                 \n",
            " dense (Dense)               (None, 1)                 31        \n",
            "                                                                 \n",
            "=================================================================\n",
            "Total params: 18,631\n",
            "Trainable params: 18,631\n",
            "Non-trainable params: 0\n",
            "_________________________________________________________________\n"
          ]
        }
      ]
    },
    {
      "cell_type": "code",
      "source": [
        "model.compile(optimizer='adam', loss='mean_squared_error')"
      ],
      "metadata": {
        "id": "ghPx1atCgElW"
      },
      "execution_count": 12,
      "outputs": []
    },
    {
      "cell_type": "code",
      "source": [
        "model.fit(X, y, epochs=200, batch_size=10)"
      ],
      "metadata": {
        "colab": {
          "base_uri": "https://localhost:8080/"
        },
        "id": "QPu3lIv-gIjW",
        "outputId": "d3cf4628-7ff4-4c03-dabc-c6b9f9eb61f2"
      },
      "execution_count": 13,
      "outputs": [
        {
          "output_type": "stream",
          "name": "stdout",
          "text": [
            "Epoch 1/200\n",
            "9/9 [==============================] - 6s 14ms/step - loss: 0.2498\n",
            "Epoch 2/200\n",
            "9/9 [==============================] - 0s 15ms/step - loss: 0.0727\n",
            "Epoch 3/200\n",
            "9/9 [==============================] - 0s 15ms/step - loss: 0.0675\n",
            "Epoch 4/200\n",
            "9/9 [==============================] - 0s 15ms/step - loss: 0.0560\n",
            "Epoch 5/200\n",
            "9/9 [==============================] - 0s 15ms/step - loss: 0.0525\n",
            "Epoch 6/200\n",
            "9/9 [==============================] - 0s 15ms/step - loss: 0.0501\n",
            "Epoch 7/200\n",
            "9/9 [==============================] - 0s 15ms/step - loss: 0.0485\n",
            "Epoch 8/200\n",
            "9/9 [==============================] - 0s 16ms/step - loss: 0.0464\n",
            "Epoch 9/200\n",
            "9/9 [==============================] - 0s 16ms/step - loss: 0.0450\n",
            "Epoch 10/200\n",
            "9/9 [==============================] - 0s 15ms/step - loss: 0.0437\n",
            "Epoch 11/200\n",
            "9/9 [==============================] - 0s 15ms/step - loss: 0.0426\n",
            "Epoch 12/200\n",
            "9/9 [==============================] - 0s 14ms/step - loss: 0.0416\n",
            "Epoch 13/200\n",
            "9/9 [==============================] - 0s 15ms/step - loss: 0.0405\n",
            "Epoch 14/200\n",
            "9/9 [==============================] - 0s 16ms/step - loss: 0.0387\n",
            "Epoch 15/200\n",
            "9/9 [==============================] - 0s 15ms/step - loss: 0.0373\n",
            "Epoch 16/200\n",
            "9/9 [==============================] - 0s 14ms/step - loss: 0.0355\n",
            "Epoch 17/200\n",
            "9/9 [==============================] - 0s 15ms/step - loss: 0.0341\n",
            "Epoch 18/200\n",
            "9/9 [==============================] - 0s 14ms/step - loss: 0.0326\n",
            "Epoch 19/200\n",
            "9/9 [==============================] - 0s 15ms/step - loss: 0.0319\n",
            "Epoch 20/200\n",
            "9/9 [==============================] - 0s 15ms/step - loss: 0.0287\n",
            "Epoch 21/200\n",
            "9/9 [==============================] - 0s 35ms/step - loss: 0.0280\n",
            "Epoch 22/200\n",
            "9/9 [==============================] - 0s 34ms/step - loss: 0.0258\n",
            "Epoch 23/200\n",
            "9/9 [==============================] - 0s 18ms/step - loss: 0.0310\n",
            "Epoch 24/200\n",
            "9/9 [==============================] - 0s 14ms/step - loss: 0.0253\n",
            "Epoch 25/200\n",
            "9/9 [==============================] - 0s 15ms/step - loss: 0.0234\n",
            "Epoch 26/200\n",
            "9/9 [==============================] - 0s 24ms/step - loss: 0.0218\n",
            "Epoch 27/200\n",
            "9/9 [==============================] - 0s 38ms/step - loss: 0.0207\n",
            "Epoch 28/200\n",
            "9/9 [==============================] - 0s 22ms/step - loss: 0.0194\n",
            "Epoch 29/200\n",
            "9/9 [==============================] - 0s 14ms/step - loss: 0.0208\n",
            "Epoch 30/200\n",
            "9/9 [==============================] - 0s 14ms/step - loss: 0.0209\n",
            "Epoch 31/200\n",
            "9/9 [==============================] - 0s 16ms/step - loss: 0.0179\n",
            "Epoch 32/200\n",
            "9/9 [==============================] - 0s 37ms/step - loss: 0.0178\n",
            "Epoch 33/200\n",
            "9/9 [==============================] - 0s 30ms/step - loss: 0.0168\n",
            "Epoch 34/200\n",
            "9/9 [==============================] - 0s 15ms/step - loss: 0.0194\n",
            "Epoch 35/200\n",
            "9/9 [==============================] - 0s 15ms/step - loss: 0.0201\n",
            "Epoch 36/200\n",
            "9/9 [==============================] - 0s 16ms/step - loss: 0.0198\n",
            "Epoch 37/200\n",
            "9/9 [==============================] - 0s 15ms/step - loss: 0.0178\n",
            "Epoch 38/200\n",
            "9/9 [==============================] - 0s 15ms/step - loss: 0.0172\n",
            "Epoch 39/200\n",
            "9/9 [==============================] - 0s 15ms/step - loss: 0.0167\n",
            "Epoch 40/200\n",
            "9/9 [==============================] - 0s 15ms/step - loss: 0.0168\n",
            "Epoch 41/200\n",
            "9/9 [==============================] - 0s 15ms/step - loss: 0.0177\n",
            "Epoch 42/200\n",
            "9/9 [==============================] - 0s 14ms/step - loss: 0.0167\n",
            "Epoch 43/200\n",
            "9/9 [==============================] - 0s 16ms/step - loss: 0.0150\n",
            "Epoch 44/200\n",
            "9/9 [==============================] - 0s 15ms/step - loss: 0.0161\n",
            "Epoch 45/200\n",
            "9/9 [==============================] - 0s 16ms/step - loss: 0.0168\n",
            "Epoch 46/200\n",
            "9/9 [==============================] - 0s 15ms/step - loss: 0.0193\n",
            "Epoch 47/200\n",
            "9/9 [==============================] - 0s 15ms/step - loss: 0.0221\n",
            "Epoch 48/200\n",
            "9/9 [==============================] - 0s 15ms/step - loss: 0.0174\n",
            "Epoch 49/200\n",
            "9/9 [==============================] - 0s 14ms/step - loss: 0.0157\n",
            "Epoch 50/200\n",
            "9/9 [==============================] - 0s 16ms/step - loss: 0.0164\n",
            "Epoch 51/200\n",
            "9/9 [==============================] - 0s 17ms/step - loss: 0.0154\n",
            "Epoch 52/200\n",
            "9/9 [==============================] - 0s 16ms/step - loss: 0.0151\n",
            "Epoch 53/200\n",
            "9/9 [==============================] - 0s 15ms/step - loss: 0.0145\n",
            "Epoch 54/200\n",
            "9/9 [==============================] - 0s 15ms/step - loss: 0.0146\n",
            "Epoch 55/200\n",
            "9/9 [==============================] - 0s 17ms/step - loss: 0.0140\n",
            "Epoch 56/200\n",
            "9/9 [==============================] - 0s 16ms/step - loss: 0.0143\n",
            "Epoch 57/200\n",
            "9/9 [==============================] - 0s 16ms/step - loss: 0.0133\n",
            "Epoch 58/200\n",
            "9/9 [==============================] - 0s 14ms/step - loss: 0.0129\n",
            "Epoch 59/200\n",
            "9/9 [==============================] - 0s 15ms/step - loss: 0.0127\n",
            "Epoch 60/200\n",
            "9/9 [==============================] - 0s 15ms/step - loss: 0.0140\n",
            "Epoch 61/200\n",
            "9/9 [==============================] - 0s 15ms/step - loss: 0.0128\n",
            "Epoch 62/200\n",
            "9/9 [==============================] - 0s 16ms/step - loss: 0.0122\n",
            "Epoch 63/200\n",
            "9/9 [==============================] - 0s 15ms/step - loss: 0.0125\n",
            "Epoch 64/200\n",
            "9/9 [==============================] - 0s 17ms/step - loss: 0.0133\n",
            "Epoch 65/200\n",
            "9/9 [==============================] - 0s 17ms/step - loss: 0.0119\n",
            "Epoch 66/200\n",
            "9/9 [==============================] - 0s 17ms/step - loss: 0.0115\n",
            "Epoch 67/200\n",
            "9/9 [==============================] - 0s 14ms/step - loss: 0.0128\n",
            "Epoch 68/200\n",
            "9/9 [==============================] - 0s 16ms/step - loss: 0.0137\n",
            "Epoch 69/200\n",
            "9/9 [==============================] - 0s 14ms/step - loss: 0.0118\n",
            "Epoch 70/200\n",
            "9/9 [==============================] - 0s 15ms/step - loss: 0.0113\n",
            "Epoch 71/200\n",
            "9/9 [==============================] - 0s 17ms/step - loss: 0.0113\n",
            "Epoch 72/200\n",
            "9/9 [==============================] - 0s 15ms/step - loss: 0.0112\n",
            "Epoch 73/200\n",
            "9/9 [==============================] - 0s 15ms/step - loss: 0.0117\n",
            "Epoch 74/200\n",
            "9/9 [==============================] - 0s 14ms/step - loss: 0.0107\n",
            "Epoch 75/200\n",
            "9/9 [==============================] - 0s 15ms/step - loss: 0.0104\n",
            "Epoch 76/200\n",
            "9/9 [==============================] - 0s 15ms/step - loss: 0.0104\n",
            "Epoch 77/200\n",
            "9/9 [==============================] - 0s 14ms/step - loss: 0.0101\n",
            "Epoch 78/200\n",
            "9/9 [==============================] - 0s 15ms/step - loss: 0.0103\n",
            "Epoch 79/200\n",
            "9/9 [==============================] - 0s 16ms/step - loss: 0.0100\n",
            "Epoch 80/200\n",
            "9/9 [==============================] - 0s 15ms/step - loss: 0.0100\n",
            "Epoch 81/200\n",
            "9/9 [==============================] - 0s 15ms/step - loss: 0.0097\n",
            "Epoch 82/200\n",
            "9/9 [==============================] - 0s 14ms/step - loss: 0.0118\n",
            "Epoch 83/200\n",
            "9/9 [==============================] - 0s 14ms/step - loss: 0.0096\n",
            "Epoch 84/200\n",
            "9/9 [==============================] - 0s 15ms/step - loss: 0.0092\n",
            "Epoch 85/200\n",
            "9/9 [==============================] - 0s 16ms/step - loss: 0.0098\n",
            "Epoch 86/200\n",
            "9/9 [==============================] - 0s 18ms/step - loss: 0.0091\n",
            "Epoch 87/200\n",
            "9/9 [==============================] - 0s 15ms/step - loss: 0.0097\n",
            "Epoch 88/200\n",
            "9/9 [==============================] - 0s 15ms/step - loss: 0.0101\n",
            "Epoch 89/200\n",
            "9/9 [==============================] - 0s 15ms/step - loss: 0.0097\n",
            "Epoch 90/200\n",
            "9/9 [==============================] - 0s 15ms/step - loss: 0.0113\n",
            "Epoch 91/200\n",
            "9/9 [==============================] - 0s 15ms/step - loss: 0.0102\n",
            "Epoch 92/200\n",
            "9/9 [==============================] - 0s 17ms/step - loss: 0.0100\n",
            "Epoch 93/200\n",
            "9/9 [==============================] - 0s 15ms/step - loss: 0.0091\n",
            "Epoch 94/200\n",
            "9/9 [==============================] - 0s 15ms/step - loss: 0.0092\n",
            "Epoch 95/200\n",
            "9/9 [==============================] - 0s 16ms/step - loss: 0.0111\n",
            "Epoch 96/200\n",
            "9/9 [==============================] - 0s 16ms/step - loss: 0.0114\n",
            "Epoch 97/200\n",
            "9/9 [==============================] - 0s 17ms/step - loss: 0.0095\n",
            "Epoch 98/200\n",
            "9/9 [==============================] - 0s 15ms/step - loss: 0.0105\n",
            "Epoch 99/200\n",
            "9/9 [==============================] - 0s 17ms/step - loss: 0.0112\n",
            "Epoch 100/200\n",
            "9/9 [==============================] - 0s 15ms/step - loss: 0.0087\n",
            "Epoch 101/200\n",
            "9/9 [==============================] - 0s 17ms/step - loss: 0.0101\n",
            "Epoch 102/200\n",
            "9/9 [==============================] - 0s 15ms/step - loss: 0.0098\n",
            "Epoch 103/200\n",
            "9/9 [==============================] - 0s 15ms/step - loss: 0.0099\n",
            "Epoch 104/200\n",
            "9/9 [==============================] - 0s 15ms/step - loss: 0.0095\n",
            "Epoch 105/200\n",
            "9/9 [==============================] - 0s 15ms/step - loss: 0.0094\n",
            "Epoch 106/200\n",
            "9/9 [==============================] - 0s 15ms/step - loss: 0.0087\n",
            "Epoch 107/200\n",
            "9/9 [==============================] - 0s 17ms/step - loss: 0.0090\n",
            "Epoch 108/200\n",
            "9/9 [==============================] - 0s 15ms/step - loss: 0.0084\n",
            "Epoch 109/200\n",
            "9/9 [==============================] - 0s 15ms/step - loss: 0.0083\n",
            "Epoch 110/200\n",
            "9/9 [==============================] - 0s 14ms/step - loss: 0.0088\n",
            "Epoch 111/200\n",
            "9/9 [==============================] - 0s 18ms/step - loss: 0.0082\n",
            "Epoch 112/200\n",
            "9/9 [==============================] - 0s 16ms/step - loss: 0.0082\n",
            "Epoch 113/200\n",
            "9/9 [==============================] - 0s 15ms/step - loss: 0.0089\n",
            "Epoch 114/200\n",
            "9/9 [==============================] - 0s 16ms/step - loss: 0.0083\n",
            "Epoch 115/200\n",
            "9/9 [==============================] - 0s 16ms/step - loss: 0.0081\n",
            "Epoch 116/200\n",
            "9/9 [==============================] - 0s 14ms/step - loss: 0.0090\n",
            "Epoch 117/200\n",
            "9/9 [==============================] - 0s 15ms/step - loss: 0.0091\n",
            "Epoch 118/200\n",
            "9/9 [==============================] - 0s 15ms/step - loss: 0.0081\n",
            "Epoch 119/200\n",
            "9/9 [==============================] - 0s 15ms/step - loss: 0.0084\n",
            "Epoch 120/200\n",
            "9/9 [==============================] - 0s 16ms/step - loss: 0.0084\n",
            "Epoch 121/200\n",
            "9/9 [==============================] - 0s 16ms/step - loss: 0.0083\n",
            "Epoch 122/200\n",
            "9/9 [==============================] - 0s 15ms/step - loss: 0.0088\n",
            "Epoch 123/200\n",
            "9/9 [==============================] - 0s 15ms/step - loss: 0.0081\n",
            "Epoch 124/200\n",
            "9/9 [==============================] - 0s 14ms/step - loss: 0.0087\n",
            "Epoch 125/200\n",
            "9/9 [==============================] - 0s 15ms/step - loss: 0.0087\n",
            "Epoch 126/200\n",
            "9/9 [==============================] - 0s 16ms/step - loss: 0.0081\n",
            "Epoch 127/200\n",
            "9/9 [==============================] - 0s 17ms/step - loss: 0.0077\n",
            "Epoch 128/200\n",
            "9/9 [==============================] - 0s 15ms/step - loss: 0.0080\n",
            "Epoch 129/200\n",
            "9/9 [==============================] - 0s 14ms/step - loss: 0.0094\n",
            "Epoch 130/200\n",
            "9/9 [==============================] - 0s 15ms/step - loss: 0.0082\n",
            "Epoch 131/200\n",
            "9/9 [==============================] - 0s 16ms/step - loss: 0.0083\n",
            "Epoch 132/200\n",
            "9/9 [==============================] - 0s 15ms/step - loss: 0.0086\n",
            "Epoch 133/200\n",
            "9/9 [==============================] - 0s 15ms/step - loss: 0.0087\n",
            "Epoch 134/200\n",
            "9/9 [==============================] - 0s 17ms/step - loss: 0.0079\n",
            "Epoch 135/200\n",
            "9/9 [==============================] - 0s 15ms/step - loss: 0.0096\n",
            "Epoch 136/200\n",
            "9/9 [==============================] - 0s 16ms/step - loss: 0.0076\n",
            "Epoch 137/200\n",
            "9/9 [==============================] - 0s 15ms/step - loss: 0.0075\n",
            "Epoch 138/200\n",
            "9/9 [==============================] - 0s 15ms/step - loss: 0.0079\n",
            "Epoch 139/200\n",
            "9/9 [==============================] - 0s 15ms/step - loss: 0.0077\n",
            "Epoch 140/200\n",
            "9/9 [==============================] - 0s 15ms/step - loss: 0.0080\n",
            "Epoch 141/200\n",
            "9/9 [==============================] - 0s 17ms/step - loss: 0.0075\n",
            "Epoch 142/200\n",
            "9/9 [==============================] - 0s 15ms/step - loss: 0.0077\n",
            "Epoch 143/200\n",
            "9/9 [==============================] - 0s 16ms/step - loss: 0.0076\n",
            "Epoch 144/200\n",
            "9/9 [==============================] - 0s 15ms/step - loss: 0.0080\n",
            "Epoch 145/200\n",
            "9/9 [==============================] - 0s 15ms/step - loss: 0.0079\n",
            "Epoch 146/200\n",
            "9/9 [==============================] - 0s 15ms/step - loss: 0.0072\n",
            "Epoch 147/200\n",
            "9/9 [==============================] - 0s 15ms/step - loss: 0.0083\n",
            "Epoch 148/200\n",
            "9/9 [==============================] - 0s 15ms/step - loss: 0.0078\n",
            "Epoch 149/200\n",
            "9/9 [==============================] - 0s 15ms/step - loss: 0.0076\n",
            "Epoch 150/200\n",
            "9/9 [==============================] - 0s 14ms/step - loss: 0.0076\n",
            "Epoch 151/200\n",
            "9/9 [==============================] - 0s 14ms/step - loss: 0.0073\n",
            "Epoch 152/200\n",
            "9/9 [==============================] - 0s 16ms/step - loss: 0.0077\n",
            "Epoch 153/200\n",
            "9/9 [==============================] - 0s 15ms/step - loss: 0.0078\n",
            "Epoch 154/200\n",
            "9/9 [==============================] - 0s 15ms/step - loss: 0.0076\n",
            "Epoch 155/200\n",
            "9/9 [==============================] - 0s 16ms/step - loss: 0.0080\n",
            "Epoch 156/200\n",
            "9/9 [==============================] - 0s 15ms/step - loss: 0.0081\n",
            "Epoch 157/200\n",
            "9/9 [==============================] - 0s 15ms/step - loss: 0.0082\n",
            "Epoch 158/200\n",
            "9/9 [==============================] - 0s 14ms/step - loss: 0.0105\n",
            "Epoch 159/200\n",
            "9/9 [==============================] - 0s 15ms/step - loss: 0.0115\n",
            "Epoch 160/200\n",
            "9/9 [==============================] - 0s 15ms/step - loss: 0.0104\n",
            "Epoch 161/200\n",
            "9/9 [==============================] - 0s 15ms/step - loss: 0.0092\n",
            "Epoch 162/200\n",
            "9/9 [==============================] - 0s 15ms/step - loss: 0.0077\n",
            "Epoch 163/200\n",
            "9/9 [==============================] - 0s 16ms/step - loss: 0.0071\n",
            "Epoch 164/200\n",
            "9/9 [==============================] - 0s 14ms/step - loss: 0.0078\n",
            "Epoch 165/200\n",
            "9/9 [==============================] - 0s 14ms/step - loss: 0.0070\n",
            "Epoch 166/200\n",
            "9/9 [==============================] - 0s 15ms/step - loss: 0.0069\n",
            "Epoch 167/200\n",
            "9/9 [==============================] - 0s 15ms/step - loss: 0.0074\n",
            "Epoch 168/200\n",
            "9/9 [==============================] - 0s 16ms/step - loss: 0.0068\n",
            "Epoch 169/200\n",
            "9/9 [==============================] - 0s 16ms/step - loss: 0.0075\n",
            "Epoch 170/200\n",
            "9/9 [==============================] - 0s 16ms/step - loss: 0.0069\n",
            "Epoch 171/200\n",
            "9/9 [==============================] - 0s 15ms/step - loss: 0.0071\n",
            "Epoch 172/200\n",
            "9/9 [==============================] - 0s 15ms/step - loss: 0.0068\n",
            "Epoch 173/200\n",
            "9/9 [==============================] - 0s 14ms/step - loss: 0.0070\n",
            "Epoch 174/200\n",
            "9/9 [==============================] - 0s 16ms/step - loss: 0.0070\n",
            "Epoch 175/200\n",
            "9/9 [==============================] - 0s 15ms/step - loss: 0.0074\n",
            "Epoch 176/200\n",
            "9/9 [==============================] - 0s 15ms/step - loss: 0.0073\n",
            "Epoch 177/200\n",
            "9/9 [==============================] - 0s 16ms/step - loss: 0.0071\n",
            "Epoch 178/200\n",
            "9/9 [==============================] - 0s 16ms/step - loss: 0.0066\n",
            "Epoch 179/200\n",
            "9/9 [==============================] - 0s 15ms/step - loss: 0.0067\n",
            "Epoch 180/200\n",
            "9/9 [==============================] - 0s 16ms/step - loss: 0.0065\n",
            "Epoch 181/200\n",
            "9/9 [==============================] - 0s 14ms/step - loss: 0.0066\n",
            "Epoch 182/200\n",
            "9/9 [==============================] - 0s 14ms/step - loss: 0.0068\n",
            "Epoch 183/200\n",
            "9/9 [==============================] - 0s 16ms/step - loss: 0.0071\n",
            "Epoch 184/200\n",
            "9/9 [==============================] - 0s 17ms/step - loss: 0.0090\n",
            "Epoch 185/200\n",
            "9/9 [==============================] - 0s 17ms/step - loss: 0.0083\n",
            "Epoch 186/200\n",
            "9/9 [==============================] - 0s 15ms/step - loss: 0.0082\n",
            "Epoch 187/200\n",
            "9/9 [==============================] - 0s 14ms/step - loss: 0.0068\n",
            "Epoch 188/200\n",
            "9/9 [==============================] - 0s 16ms/step - loss: 0.0076\n",
            "Epoch 189/200\n",
            "9/9 [==============================] - 0s 16ms/step - loss: 0.0069\n",
            "Epoch 190/200\n",
            "9/9 [==============================] - 0s 15ms/step - loss: 0.0068\n",
            "Epoch 191/200\n",
            "9/9 [==============================] - 0s 18ms/step - loss: 0.0067\n",
            "Epoch 192/200\n",
            "9/9 [==============================] - 0s 16ms/step - loss: 0.0068\n",
            "Epoch 193/200\n",
            "9/9 [==============================] - 0s 15ms/step - loss: 0.0065\n",
            "Epoch 194/200\n",
            "9/9 [==============================] - 0s 14ms/step - loss: 0.0063\n",
            "Epoch 195/200\n",
            "9/9 [==============================] - 0s 15ms/step - loss: 0.0067\n",
            "Epoch 196/200\n",
            "9/9 [==============================] - 0s 14ms/step - loss: 0.0076\n",
            "Epoch 197/200\n",
            "9/9 [==============================] - 0s 15ms/step - loss: 0.0076\n",
            "Epoch 198/200\n",
            "9/9 [==============================] - 0s 16ms/step - loss: 0.0069\n",
            "Epoch 199/200\n",
            "9/9 [==============================] - 0s 15ms/step - loss: 0.0081\n",
            "Epoch 200/200\n",
            "9/9 [==============================] - 0s 15ms/step - loss: 0.0069\n"
          ]
        },
        {
          "output_type": "execute_result",
          "data": {
            "text/plain": [
              "<keras.callbacks.History at 0x7f778f1e3e50>"
            ]
          },
          "metadata": {},
          "execution_count": 13
        }
      ]
    },
    {
      "cell_type": "markdown",
      "source": [
        "# Visualizing the predictions"
      ],
      "metadata": {
        "id": "CSPRg61hgNrJ"
      }
    },
    {
      "cell_type": "code",
      "source": [
        "predicted_value= model.predict(X_test)\n",
        "\n",
        "plt.plot(predicted_value, color= 'red')\n",
        "plt.plot(input_data[lookback:test_size+(2*lookback),1], color='green')\n",
        "plt.title(\"Opening price of stocks sold\")\n",
        "plt.xlabel(\"Time)\")\n",
        "plt.ylabel(\"Stock Opening Price\")\n",
        "plt.show()"
      ],
      "metadata": {
        "colab": {
          "base_uri": "https://localhost:8080/",
          "height": 295
        },
        "id": "86FTige6gLvS",
        "outputId": "42f2553e-8ab5-40d1-88cb-d842a4dd804d"
      },
      "execution_count": 14,
      "outputs": [
        {
          "output_type": "display_data",
          "data": {
            "text/plain": [
              "<Figure size 432x288 with 1 Axes>"
            ],
            "image/png": "[encoded data removed]"
          },
          "metadata": {
            "needs_background": "light"
          }
        }
      ]
    }
  ]
}