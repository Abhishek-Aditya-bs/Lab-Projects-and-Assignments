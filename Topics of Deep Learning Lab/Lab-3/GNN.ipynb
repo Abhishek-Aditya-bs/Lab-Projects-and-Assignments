{
  "nbformat": 4,
  "nbformat_minor": 0,
  "metadata": {
    "colab": {
      "name": "GNN.ipynb",
      "provenance": []
    },
    "kernelspec": {
      "name": "python3",
      "display_name": "Python 3"
    },
    "language_info": {
      "name": "python"
    },
    "accelerator": "GPU"
  },
  "cells": [
    {
      "cell_type": "markdown",
      "source": [
        "# GNN Implementation\n",
        "\n",
        "- Name: Abhishek Aditya BS\n",
        "- SRN: PES1UG19CS019\n",
        "- VI Semester 'A' Section\n",
        "- Date: 27-04-2022"
      ],
      "metadata": {
        "id": "sBNUj9ZOzfvi"
      }
    },
    {
      "cell_type": "code",
      "execution_count": 51,
      "metadata": {
        "id": "9K4RPvyWhZVu"
      },
      "outputs": [],
      "source": [
        "import sys\n",
        "if 'google.colab' in sys.modules:\n",
        "  %pip install -q stellargraph[demos]==1.2.1"
      ]
    },
    {
      "cell_type": "code",
      "source": [
        "import pandas as pd\n",
        "import os\n"
      ],
      "metadata": {
        "id": "E-BsytH0iHy7"
      },
      "execution_count": 52,
      "outputs": []
    },
    {
      "cell_type": "code",
      "source": [
        "import stellargraph as sg\n",
        "from stellargraph.mapper import FullBatchNodeGenerator\n",
        "from stellargraph.layer import GCN"
      ],
      "metadata": {
        "id": "n2gc643xiNan"
      },
      "execution_count": 53,
      "outputs": []
    },
    {
      "cell_type": "code",
      "source": [
        "from tensorflow.keras import layers, optimizers, losses, metrics, Model\n",
        "from sklearn import preprocessing, model_selection\n",
        "from IPython.display import display, HTML\n",
        "import matplotlib.pyplot as plt\n"
      ],
      "metadata": {
        "id": "8l3EHQ_0icb9"
      },
      "execution_count": 54,
      "outputs": []
    },
    {
      "cell_type": "code",
      "source": [
        "dataset=sg.datasets.Cora()\n",
        "display(HTML(dataset.description))\n",
        "G, node_subjects = dataset.load()"
      ],
      "metadata": {
        "colab": {
          "base_uri": "https://localhost:8080/",
          "height": 51
        },
        "id": "1d7f4zipi89m",
        "outputId": "5807e0a7-b4a3-48ae-c534-046ba3ea118c"
      },
      "execution_count": 55,
      "outputs": [
        {
          "output_type": "display_data",
          "data": {
            "text/plain": [
              "<IPython.core.display.HTML object>"
            ],
            "text/html": [
              "The Cora dataset consists of 2708 scientific publications classified into one of seven classes. The citation network consists of 5429 links. Each publication in the dataset is described by a 0/1-valued word vector indicating the absence/presence of the corresponding word from the dictionary. The dictionary consists of 1433 unique words."
            ]
          },
          "metadata": {}
        }
      ]
    },
    {
      "cell_type": "code",
      "source": [
        "print(G.info())"
      ],
      "metadata": {
        "colab": {
          "base_uri": "https://localhost:8080/"
        },
        "id": "eE8BnjRmjaWW",
        "outputId": "a6c1b86f-2136-4f3f-a6e4-72e10d16a935"
      },
      "execution_count": 56,
      "outputs": [
        {
          "output_type": "stream",
          "name": "stdout",
          "text": [
            "StellarGraph: Undirected multigraph\n",
            " Nodes: 2708, Edges: 5429\n",
            "\n",
            " Node types:\n",
            "  paper: [2708]\n",
            "    Features: float32 vector, length 1433\n",
            "    Edge types: paper-cites->paper\n",
            "\n",
            " Edge types:\n",
            "    paper-cites->paper: [5429]\n",
            "        Weights: all 1 (default)\n",
            "        Features: none\n"
          ]
        }
      ]
    },
    {
      "cell_type": "code",
      "source": [
        "node_subjects.value_counts().to_frame()"
      ],
      "metadata": {
        "colab": {
          "base_uri": "https://localhost:8080/",
          "height": 269
        },
        "id": "XaCmIFkQjt-I",
        "outputId": "e016fc8e-09c9-40f8-e16d-53bf2aaccf3c"
      },
      "execution_count": 57,
      "outputs": [
        {
          "output_type": "execute_result",
          "data": {
            "text/plain": [
              "                        subject\n",
              "Neural_Networks             818\n",
              "Probabilistic_Methods       426\n",
              "Genetic_Algorithms          418\n",
              "Theory                      351\n",
              "Case_Based                  298\n",
              "Reinforcement_Learning      217\n",
              "Rule_Learning               180"
            ],
            "text/html": [
              "\n",
              "  <div id=\"df-0475642e-2a1a-4a80-acd5-357e17bca639\">\n",
              "    <div class=\"colab-df-container\">\n",
              "      <div>\n",
              "<style scoped>\n",
              "    .dataframe tbody tr th:only-of-type {\n",
              "        vertical-align: middle;\n",
              "    }\n",
              "\n",
              "    .dataframe tbody tr th {\n",
              "        vertical-align: top;\n",
              "    }\n",
              "\n",
              "    .dataframe thead th {\n",
              "        text-align: right;\n",
              "    }\n",
              "</style>\n",
              "<table border=\"1\" class=\"dataframe\">\n",
              "  <thead>\n",
              "    <tr style=\"text-align: right;\">\n",
              "      <th></th>\n",
              "      <th>subject</th>\n",
              "    </tr>\n",
              "  </thead>\n",
              "  <tbody>\n",
              "    <tr>\n",
              "      <th>Neural_Networks</th>\n",
              "      <td>818</td>\n",
              "    </tr>\n",
              "    <tr>\n",
              "      <th>Probabilistic_Methods</th>\n",
              "      <td>426</td>\n",
              "    </tr>\n",
              "    <tr>\n",
              "      <th>Genetic_Algorithms</th>\n",
              "      <td>418</td>\n",
              "    </tr>\n",
              "    <tr>\n",
              "      <th>Theory</th>\n",
              "      <td>351</td>\n",
              "    </tr>\n",
              "    <tr>\n",
              "      <th>Case_Based</th>\n",
              "      <td>298</td>\n",
              "    </tr>\n",
              "    <tr>\n",
              "      <th>Reinforcement_Learning</th>\n",
              "      <td>217</td>\n",
              "    </tr>\n",
              "    <tr>\n",
              "      <th>Rule_Learning</th>\n",
              "      <td>180</td>\n",
              "    </tr>\n",
              "  </tbody>\n",
              "</table>\n",
              "</div>\n",
              "      <button class=\"colab-df-convert\" onclick=\"convertToInteractive('df-0475642e-2a1a-4a80-acd5-357e17bca639')\"\n",
              "              title=\"Convert this dataframe to an interactive table.\"\n",
              "              style=\"display:none;\">\n",
              "        \n",
              "  <svg xmlns=\"http://www.w3.org/2000/svg\" height=\"24px\"viewBox=\"0 0 24 24\"\n",
              "       width=\"24px\">\n",
              "    <path d=\"M0 0h24v24H0V0z\" fill=\"none\"/>\n",
              "    <path d=\"M18.56 5.44l.94 2.06.94-2.06 2.06-.94-2.06-.94-.94-2.06-.94 2.06-2.06.94zm-11 1L8.5 8.5l.94-2.06 2.06-.94-2.06-.94L8.5 2.5l-.94 2.06-2.06.94zm10 10l.94 2.06.94-2.06 2.06-.94-2.06-.94-.94-2.06-.94 2.06-2.06.94z\"/><path d=\"M17.41 7.96l-1.37-1.37c-.4-.4-.92-.59-1.43-.59-.52 0-1.04.2-1.43.59L10.3 9.45l-7.72 7.72c-.78.78-.78 2.05 0 2.83L4 21.41c.39.39.9.59 1.41.59.51 0 1.02-.2 1.41-.59l7.78-7.78 2.81-2.81c.8-.78.8-2.07 0-2.86zM5.41 20L4 18.59l7.72-7.72 1.47 1.35L5.41 20z\"/>\n",
              "  </svg>\n",
              "      </button>\n",
              "      \n",
              "  <style>\n",
              "    .colab-df-container {\n",
              "      display:flex;\n",
              "      flex-wrap:wrap;\n",
              "      gap: 12px;\n",
              "    }\n",
              "\n",
              "    .colab-df-convert {\n",
              "      background-color: #E8F0FE;\n",
              "      border: none;\n",
              "      border-radius: 50%;\n",
              "      cursor: pointer;\n",
              "      display: none;\n",
              "      fill: #1967D2;\n",
              "      height: 32px;\n",
              "      padding: 0 0 0 0;\n",
              "      width: 32px;\n",
              "    }\n",
              "\n",
              "    .colab-df-convert:hover {\n",
              "      background-color: #E2EBFA;\n",
              "      box-shadow: 0px 1px 2px rgba(60, 64, 67, 0.3), 0px 1px 3px 1px rgba(60, 64, 67, 0.15);\n",
              "      fill: #174EA6;\n",
              "    }\n",
              "\n",
              "    [theme=dark] .colab-df-convert {\n",
              "      background-color: #3B4455;\n",
              "      fill: #D2E3FC;\n",
              "    }\n",
              "\n",
              "    [theme=dark] .colab-df-convert:hover {\n",
              "      background-color: #434B5C;\n",
              "      box-shadow: 0px 1px 3px 1px rgba(0, 0, 0, 0.15);\n",
              "      filter: drop-shadow(0px 1px 2px rgba(0, 0, 0, 0.3));\n",
              "      fill: #FFFFFF;\n",
              "    }\n",
              "  </style>\n",
              "\n",
              "      <script>\n",
              "        const buttonEl =\n",
              "          document.querySelector('#df-0475642e-2a1a-4a80-acd5-357e17bca639 button.colab-df-convert');\n",
              "        buttonEl.style.display =\n",
              "          google.colab.kernel.accessAllowed ? 'block' : 'none';\n",
              "\n",
              "        async function convertToInteractive(key) {\n",
              "          const element = document.querySelector('#df-0475642e-2a1a-4a80-acd5-357e17bca639');\n",
              "          const dataTable =\n",
              "            await google.colab.kernel.invokeFunction('convertToInteractive',\n",
              "                                                     [key], {});\n",
              "          if (!dataTable) return;\n",
              "\n",
              "          const docLinkHtml = 'Like what you see? Visit the ' +\n",
              "            '<a target=\"_blank\" href=https://colab.research.google.com/notebooks/data_table.ipynb>data table notebook</a>'\n",
              "            + ' to learn more about interactive tables.';\n",
              "          element.innerHTML = '';\n",
              "          dataTable['output_type'] = 'display_data';\n",
              "          await google.colab.output.renderOutput(dataTable, element);\n",
              "          const docLink = document.createElement('div');\n",
              "          docLink.innerHTML = docLinkHtml;\n",
              "          element.appendChild(docLink);\n",
              "        }\n",
              "      </script>\n",
              "    </div>\n",
              "  </div>\n",
              "  "
            ]
          },
          "metadata": {},
          "execution_count": 57
        }
      ]
    },
    {
      "cell_type": "code",
      "source": [
        "train_subjects, test_subjects = model_selection.train_test_split(node_subjects, train_size=140, test_size=None, stratify=node_subjects)\n",
        "val_subjects, test_subjects = model_selection.train_test_split(test_subjects, train_size=500, test_size=None, stratify=test_subjects)"
      ],
      "metadata": {
        "id": "eEaOW45fj-pE"
      },
      "execution_count": 58,
      "outputs": []
    },
    {
      "cell_type": "code",
      "source": [
        "train_subjects.value_counts().to_frame()"
      ],
      "metadata": {
        "colab": {
          "base_uri": "https://localhost:8080/",
          "height": 269
        },
        "id": "TcQLa4SNlpW2",
        "outputId": "fcc81be8-56ea-4242-9128-3ee347554c45"
      },
      "execution_count": 59,
      "outputs": [
        {
          "output_type": "execute_result",
          "data": {
            "text/plain": [
              "                        subject\n",
              "Neural_Networks              42\n",
              "Genetic_Algorithms           22\n",
              "Probabilistic_Methods        22\n",
              "Theory                       18\n",
              "Case_Based                   16\n",
              "Reinforcement_Learning       11\n",
              "Rule_Learning                 9"
            ],
            "text/html": [
              "\n",
              "  <div id=\"df-7771fbc6-4e5e-4bd5-af7b-23cd1b189aed\">\n",
              "    <div class=\"colab-df-container\">\n",
              "      <div>\n",
              "<style scoped>\n",
              "    .dataframe tbody tr th:only-of-type {\n",
              "        vertical-align: middle;\n",
              "    }\n",
              "\n",
              "    .dataframe tbody tr th {\n",
              "        vertical-align: top;\n",
              "    }\n",
              "\n",
              "    .dataframe thead th {\n",
              "        text-align: right;\n",
              "    }\n",
              "</style>\n",
              "<table border=\"1\" class=\"dataframe\">\n",
              "  <thead>\n",
              "    <tr style=\"text-align: right;\">\n",
              "      <th></th>\n",
              "      <th>subject</th>\n",
              "    </tr>\n",
              "  </thead>\n",
              "  <tbody>\n",
              "    <tr>\n",
              "      <th>Neural_Networks</th>\n",
              "      <td>42</td>\n",
              "    </tr>\n",
              "    <tr>\n",
              "      <th>Genetic_Algorithms</th>\n",
              "      <td>22</td>\n",
              "    </tr>\n",
              "    <tr>\n",
              "      <th>Probabilistic_Methods</th>\n",
              "      <td>22</td>\n",
              "    </tr>\n",
              "    <tr>\n",
              "      <th>Theory</th>\n",
              "      <td>18</td>\n",
              "    </tr>\n",
              "    <tr>\n",
              "      <th>Case_Based</th>\n",
              "      <td>16</td>\n",
              "    </tr>\n",
              "    <tr>\n",
              "      <th>Reinforcement_Learning</th>\n",
              "      <td>11</td>\n",
              "    </tr>\n",
              "    <tr>\n",
              "      <th>Rule_Learning</th>\n",
              "      <td>9</td>\n",
              "    </tr>\n",
              "  </tbody>\n",
              "</table>\n",
              "</div>\n",
              "      <button class=\"colab-df-convert\" onclick=\"convertToInteractive('df-7771fbc6-4e5e-4bd5-af7b-23cd1b189aed')\"\n",
              "              title=\"Convert this dataframe to an interactive table.\"\n",
              "              style=\"display:none;\">\n",
              "        \n",
              "  <svg xmlns=\"http://www.w3.org/2000/svg\" height=\"24px\"viewBox=\"0 0 24 24\"\n",
              "       width=\"24px\">\n",
              "    <path d=\"M0 0h24v24H0V0z\" fill=\"none\"/>\n",
              "    <path d=\"M18.56 5.44l.94 2.06.94-2.06 2.06-.94-2.06-.94-.94-2.06-.94 2.06-2.06.94zm-11 1L8.5 8.5l.94-2.06 2.06-.94-2.06-.94L8.5 2.5l-.94 2.06-2.06.94zm10 10l.94 2.06.94-2.06 2.06-.94-2.06-.94-.94-2.06-.94 2.06-2.06.94z\"/><path d=\"M17.41 7.96l-1.37-1.37c-.4-.4-.92-.59-1.43-.59-.52 0-1.04.2-1.43.59L10.3 9.45l-7.72 7.72c-.78.78-.78 2.05 0 2.83L4 21.41c.39.39.9.59 1.41.59.51 0 1.02-.2 1.41-.59l7.78-7.78 2.81-2.81c.8-.78.8-2.07 0-2.86zM5.41 20L4 18.59l7.72-7.72 1.47 1.35L5.41 20z\"/>\n",
              "  </svg>\n",
              "      </button>\n",
              "      \n",
              "  <style>\n",
              "    .colab-df-container {\n",
              "      display:flex;\n",
              "      flex-wrap:wrap;\n",
              "      gap: 12px;\n",
              "    }\n",
              "\n",
              "    .colab-df-convert {\n",
              "      background-color: #E8F0FE;\n",
              "      border: none;\n",
              "      border-radius: 50%;\n",
              "      cursor: pointer;\n",
              "      display: none;\n",
              "      fill: #1967D2;\n",
              "      height: 32px;\n",
              "      padding: 0 0 0 0;\n",
              "      width: 32px;\n",
              "    }\n",
              "\n",
              "    .colab-df-convert:hover {\n",
              "      background-color: #E2EBFA;\n",
              "      box-shadow: 0px 1px 2px rgba(60, 64, 67, 0.3), 0px 1px 3px 1px rgba(60, 64, 67, 0.15);\n",
              "      fill: #174EA6;\n",
              "    }\n",
              "\n",
              "    [theme=dark] .colab-df-convert {\n",
              "      background-color: #3B4455;\n",
              "      fill: #D2E3FC;\n",
              "    }\n",
              "\n",
              "    [theme=dark] .colab-df-convert:hover {\n",
              "      background-color: #434B5C;\n",
              "      box-shadow: 0px 1px 3px 1px rgba(0, 0, 0, 0.15);\n",
              "      filter: drop-shadow(0px 1px 2px rgba(0, 0, 0, 0.3));\n",
              "      fill: #FFFFFF;\n",
              "    }\n",
              "  </style>\n",
              "\n",
              "      <script>\n",
              "        const buttonEl =\n",
              "          document.querySelector('#df-7771fbc6-4e5e-4bd5-af7b-23cd1b189aed button.colab-df-convert');\n",
              "        buttonEl.style.display =\n",
              "          google.colab.kernel.accessAllowed ? 'block' : 'none';\n",
              "\n",
              "        async function convertToInteractive(key) {\n",
              "          const element = document.querySelector('#df-7771fbc6-4e5e-4bd5-af7b-23cd1b189aed');\n",
              "          const dataTable =\n",
              "            await google.colab.kernel.invokeFunction('convertToInteractive',\n",
              "                                                     [key], {});\n",
              "          if (!dataTable) return;\n",
              "\n",
              "          const docLinkHtml = 'Like what you see? Visit the ' +\n",
              "            '<a target=\"_blank\" href=https://colab.research.google.com/notebooks/data_table.ipynb>data table notebook</a>'\n",
              "            + ' to learn more about interactive tables.';\n",
              "          element.innerHTML = '';\n",
              "          dataTable['output_type'] = 'display_data';\n",
              "          await google.colab.output.renderOutput(dataTable, element);\n",
              "          const docLink = document.createElement('div');\n",
              "          docLink.innerHTML = docLinkHtml;\n",
              "          element.appendChild(docLink);\n",
              "        }\n",
              "      </script>\n",
              "    </div>\n",
              "  </div>\n",
              "  "
            ]
          },
          "metadata": {},
          "execution_count": 59
        }
      ]
    },
    {
      "cell_type": "code",
      "source": [
        "target_encoding=preprocessing.LabelBinarizer()"
      ],
      "metadata": {
        "id": "F2YcuQdwl12t"
      },
      "execution_count": 60,
      "outputs": []
    },
    {
      "cell_type": "code",
      "source": [
        "train_targets=target_encoding.fit_transform(train_subjects)\n",
        "val_targets=target_encoding.transform(val_subjects)\n",
        "test_targets=target_encoding.transform(test_subjects)"
      ],
      "metadata": {
        "id": "X4hng1CBmK1J"
      },
      "execution_count": 61,
      "outputs": []
    },
    {
      "cell_type": "code",
      "source": [
        "from stellargraph.mapper.full_batch_generators import FullBatchGenerator\n",
        "generator = FullBatchNodeGenerator(G, method=\"gcn\")"
      ],
      "metadata": {
        "colab": {
          "base_uri": "https://localhost:8080/"
        },
        "id": "9l1fDgy2moD6",
        "outputId": "64a2e58a-edaa-4c57-8f49-82079b93b7b8"
      },
      "execution_count": 62,
      "outputs": [
        {
          "output_type": "stream",
          "name": "stdout",
          "text": [
            "Using GCN (local pooling) filters...\n"
          ]
        }
      ]
    },
    {
      "cell_type": "code",
      "source": [
        "train_gen=generator.flow(train_subjects.index, train_targets)"
      ],
      "metadata": {
        "id": "PL0Kp49tnGCx"
      },
      "execution_count": 63,
      "outputs": []
    },
    {
      "cell_type": "code",
      "source": [
        "gcn=GCN(layer_sizes=[16,16], activations=['relu', 'relu'], generator=generator, dropout=0.5)"
      ],
      "metadata": {
        "id": "dARsKC-Cnc7H"
      },
      "execution_count": 64,
      "outputs": []
    },
    {
      "cell_type": "code",
      "source": [
        "x_inp, x_out = gcn.in_out_tensors()\n",
        "x_out"
      ],
      "metadata": {
        "colab": {
          "base_uri": "https://localhost:8080/"
        },
        "id": "me9C8wVpnzGG",
        "outputId": "3020967f-7908-4871-fae4-778a950b6600"
      },
      "execution_count": 65,
      "outputs": [
        {
          "output_type": "execute_result",
          "data": {
            "text/plain": [
              "<KerasTensor: shape=(1, None, 16) dtype=float32 (created by layer 'gather_indices_2')>"
            ]
          },
          "metadata": {},
          "execution_count": 65
        }
      ]
    },
    {
      "cell_type": "code",
      "source": [
        "predictions=layers.Dense(units=train_targets.shape[1], activation=\"softmax\")(x_out)"
      ],
      "metadata": {
        "id": "WvDS1hKuokr3"
      },
      "execution_count": 66,
      "outputs": []
    },
    {
      "cell_type": "code",
      "source": [
        "model=Model(inputs=x_inp, outputs=predictions)\n",
        "model.compile(optimizer=optimizers.Adam(lr=0.01), loss=losses.categorical_crossentropy, metrics=[\"acc\"])"
      ],
      "metadata": {
        "colab": {
          "base_uri": "https://localhost:8080/"
        },
        "id": "0pnHfFAGowQp",
        "outputId": "8df75cfc-5767-48c8-9fab-e5f1a20714cc"
      },
      "execution_count": 67,
      "outputs": [
        {
          "output_type": "stream",
          "name": "stderr",
          "text": [
            "/usr/local/lib/python3.7/dist-packages/keras/optimizer_v2/adam.py:105: UserWarning: The `lr` argument is deprecated, use `learning_rate` instead.\n",
            "  super(Adam, self).__init__(name, **kwargs)\n"
          ]
        }
      ]
    },
    {
      "cell_type": "code",
      "source": [
        "val_gen = generator.flow(val_subjects.index, val_targets)"
      ],
      "metadata": {
        "id": "2PH9s5MYpVwF"
      },
      "execution_count": 68,
      "outputs": []
    },
    {
      "cell_type": "code",
      "source": [
        "from tensorflow.keras.callbacks import EarlyStopping "
      ],
      "metadata": {
        "id": "ofR04WyWpdUh"
      },
      "execution_count": 69,
      "outputs": []
    },
    {
      "cell_type": "code",
      "source": [
        "os_callback = EarlyStopping(monitor=\"val_acc\", patience=50, restore_best_weights=True)"
      ],
      "metadata": {
        "id": "vF4xpZoPpudK"
      },
      "execution_count": 70,
      "outputs": []
    },
    {
      "cell_type": "code",
      "source": [
        "history = model.fit(train_gen, epochs=200, validation_data=val_gen, verbose=2, shuffle=False, callbacks=[os_callback])"
      ],
      "metadata": {
        "colab": {
          "base_uri": "https://localhost:8080/"
        },
        "id": "JDy63d67p-lT",
        "outputId": "5486b108-b844-44ca-db76-89f99f2a6b39"
      },
      "execution_count": 71,
      "outputs": [
        {
          "output_type": "stream",
          "name": "stdout",
          "text": [
            "Epoch 1/200\n",
            "1/1 - 1s - loss: 1.9483 - acc: 0.1357 - val_loss: 1.9074 - val_acc: 0.3040 - 1s/epoch - 1s/step\n",
            "Epoch 2/200\n",
            "1/1 - 0s - loss: 1.8903 - acc: 0.3500 - val_loss: 1.8605 - val_acc: 0.4040 - 89ms/epoch - 89ms/step\n",
            "Epoch 3/200\n",
            "1/1 - 0s - loss: 1.8179 - acc: 0.4571 - val_loss: 1.8018 - val_acc: 0.4680 - 96ms/epoch - 96ms/step\n",
            "Epoch 4/200\n",
            "1/1 - 0s - loss: 1.7500 - acc: 0.4571 - val_loss: 1.7377 - val_acc: 0.3960 - 84ms/epoch - 84ms/step\n",
            "Epoch 5/200\n",
            "1/1 - 0s - loss: 1.6773 - acc: 0.4429 - val_loss: 1.6712 - val_acc: 0.3700 - 84ms/epoch - 84ms/step\n",
            "Epoch 6/200\n",
            "1/1 - 0s - loss: 1.5647 - acc: 0.4143 - val_loss: 1.5990 - val_acc: 0.3760 - 84ms/epoch - 84ms/step\n",
            "Epoch 7/200\n",
            "1/1 - 0s - loss: 1.4856 - acc: 0.5071 - val_loss: 1.5159 - val_acc: 0.4200 - 89ms/epoch - 89ms/step\n",
            "Epoch 8/200\n",
            "1/1 - 0s - loss: 1.3913 - acc: 0.4786 - val_loss: 1.4307 - val_acc: 0.4860 - 88ms/epoch - 88ms/step\n",
            "Epoch 9/200\n",
            "1/1 - 0s - loss: 1.2517 - acc: 0.6000 - val_loss: 1.3499 - val_acc: 0.5480 - 97ms/epoch - 97ms/step\n",
            "Epoch 10/200\n",
            "1/1 - 0s - loss: 1.1596 - acc: 0.6143 - val_loss: 1.2785 - val_acc: 0.5840 - 89ms/epoch - 89ms/step\n",
            "Epoch 11/200\n",
            "1/1 - 0s - loss: 1.0817 - acc: 0.6571 - val_loss: 1.2145 - val_acc: 0.6100 - 87ms/epoch - 87ms/step\n",
            "Epoch 12/200\n",
            "1/1 - 0s - loss: 1.0354 - acc: 0.6929 - val_loss: 1.1537 - val_acc: 0.6380 - 95ms/epoch - 95ms/step\n",
            "Epoch 13/200\n",
            "1/1 - 0s - loss: 0.9270 - acc: 0.7214 - val_loss: 1.0977 - val_acc: 0.6520 - 89ms/epoch - 89ms/step\n",
            "Epoch 14/200\n",
            "1/1 - 0s - loss: 0.8728 - acc: 0.7071 - val_loss: 1.0487 - val_acc: 0.6660 - 90ms/epoch - 90ms/step\n",
            "Epoch 15/200\n",
            "1/1 - 0s - loss: 0.7716 - acc: 0.7786 - val_loss: 1.0043 - val_acc: 0.6840 - 91ms/epoch - 91ms/step\n",
            "Epoch 16/200\n",
            "1/1 - 0s - loss: 0.7007 - acc: 0.8143 - val_loss: 0.9627 - val_acc: 0.7020 - 90ms/epoch - 90ms/step\n",
            "Epoch 17/200\n",
            "1/1 - 0s - loss: 0.6841 - acc: 0.8071 - val_loss: 0.9252 - val_acc: 0.7220 - 130ms/epoch - 130ms/step\n",
            "Epoch 18/200\n",
            "1/1 - 0s - loss: 0.5838 - acc: 0.8500 - val_loss: 0.8922 - val_acc: 0.7320 - 135ms/epoch - 135ms/step\n",
            "Epoch 19/200\n",
            "1/1 - 0s - loss: 0.5390 - acc: 0.8643 - val_loss: 0.8629 - val_acc: 0.7340 - 97ms/epoch - 97ms/step\n",
            "Epoch 20/200\n",
            "1/1 - 0s - loss: 0.5334 - acc: 0.8643 - val_loss: 0.8366 - val_acc: 0.7500 - 84ms/epoch - 84ms/step\n",
            "Epoch 21/200\n",
            "1/1 - 0s - loss: 0.4836 - acc: 0.8643 - val_loss: 0.8128 - val_acc: 0.7780 - 83ms/epoch - 83ms/step\n",
            "Epoch 22/200\n",
            "1/1 - 0s - loss: 0.3883 - acc: 0.9214 - val_loss: 0.7950 - val_acc: 0.7780 - 86ms/epoch - 86ms/step\n",
            "Epoch 23/200\n",
            "1/1 - 0s - loss: 0.3951 - acc: 0.9071 - val_loss: 0.7843 - val_acc: 0.7720 - 84ms/epoch - 84ms/step\n",
            "Epoch 24/200\n",
            "1/1 - 0s - loss: 0.2895 - acc: 0.9286 - val_loss: 0.7784 - val_acc: 0.7660 - 83ms/epoch - 83ms/step\n",
            "Epoch 25/200\n",
            "1/1 - 0s - loss: 0.2545 - acc: 0.9786 - val_loss: 0.7725 - val_acc: 0.7740 - 83ms/epoch - 83ms/step\n",
            "Epoch 26/200\n",
            "1/1 - 0s - loss: 0.2735 - acc: 0.9357 - val_loss: 0.7678 - val_acc: 0.7820 - 93ms/epoch - 93ms/step\n",
            "Epoch 27/200\n",
            "1/1 - 0s - loss: 0.2675 - acc: 0.9500 - val_loss: 0.7623 - val_acc: 0.7860 - 83ms/epoch - 83ms/step\n",
            "Epoch 28/200\n",
            "1/1 - 0s - loss: 0.1899 - acc: 0.9714 - val_loss: 0.7564 - val_acc: 0.7840 - 89ms/epoch - 89ms/step\n",
            "Epoch 29/200\n",
            "1/1 - 0s - loss: 0.2176 - acc: 0.9500 - val_loss: 0.7520 - val_acc: 0.7820 - 86ms/epoch - 86ms/step\n",
            "Epoch 30/200\n",
            "1/1 - 0s - loss: 0.1386 - acc: 0.9857 - val_loss: 0.7509 - val_acc: 0.7900 - 89ms/epoch - 89ms/step\n",
            "Epoch 31/200\n",
            "1/1 - 0s - loss: 0.1627 - acc: 0.9714 - val_loss: 0.7539 - val_acc: 0.7920 - 89ms/epoch - 89ms/step\n",
            "Epoch 32/200\n",
            "1/1 - 0s - loss: 0.1246 - acc: 0.9786 - val_loss: 0.7596 - val_acc: 0.7880 - 91ms/epoch - 91ms/step\n",
            "Epoch 33/200\n",
            "1/1 - 0s - loss: 0.1223 - acc: 0.9714 - val_loss: 0.7650 - val_acc: 0.7900 - 84ms/epoch - 84ms/step\n",
            "Epoch 34/200\n",
            "1/1 - 0s - loss: 0.1741 - acc: 0.9571 - val_loss: 0.7690 - val_acc: 0.7920 - 90ms/epoch - 90ms/step\n",
            "Epoch 35/200\n",
            "1/1 - 0s - loss: 0.1168 - acc: 0.9714 - val_loss: 0.7731 - val_acc: 0.7900 - 89ms/epoch - 89ms/step\n",
            "Epoch 36/200\n",
            "1/1 - 0s - loss: 0.0982 - acc: 0.9857 - val_loss: 0.7785 - val_acc: 0.7860 - 88ms/epoch - 88ms/step\n",
            "Epoch 37/200\n",
            "1/1 - 0s - loss: 0.1039 - acc: 0.9571 - val_loss: 0.7864 - val_acc: 0.7880 - 94ms/epoch - 94ms/step\n",
            "Epoch 38/200\n",
            "1/1 - 0s - loss: 0.0934 - acc: 0.9857 - val_loss: 0.7985 - val_acc: 0.7840 - 89ms/epoch - 89ms/step\n",
            "Epoch 39/200\n",
            "1/1 - 0s - loss: 0.1115 - acc: 0.9500 - val_loss: 0.8190 - val_acc: 0.7900 - 103ms/epoch - 103ms/step\n",
            "Epoch 40/200\n",
            "1/1 - 0s - loss: 0.0944 - acc: 0.9643 - val_loss: 0.8443 - val_acc: 0.7800 - 169ms/epoch - 169ms/step\n",
            "Epoch 41/200\n",
            "1/1 - 0s - loss: 0.0980 - acc: 0.9786 - val_loss: 0.8673 - val_acc: 0.7800 - 141ms/epoch - 141ms/step\n",
            "Epoch 42/200\n",
            "1/1 - 0s - loss: 0.1040 - acc: 0.9643 - val_loss: 0.8863 - val_acc: 0.7780 - 143ms/epoch - 143ms/step\n",
            "Epoch 43/200\n",
            "1/1 - 0s - loss: 0.1166 - acc: 0.9429 - val_loss: 0.8887 - val_acc: 0.7780 - 127ms/epoch - 127ms/step\n",
            "Epoch 44/200\n",
            "1/1 - 0s - loss: 0.0772 - acc: 0.9857 - val_loss: 0.8880 - val_acc: 0.7860 - 142ms/epoch - 142ms/step\n",
            "Epoch 45/200\n",
            "1/1 - 0s - loss: 0.0727 - acc: 0.9786 - val_loss: 0.8871 - val_acc: 0.7900 - 152ms/epoch - 152ms/step\n",
            "Epoch 46/200\n",
            "1/1 - 0s - loss: 0.0744 - acc: 0.9714 - val_loss: 0.8875 - val_acc: 0.7920 - 175ms/epoch - 175ms/step\n",
            "Epoch 47/200\n",
            "1/1 - 0s - loss: 0.0713 - acc: 0.9786 - val_loss: 0.8850 - val_acc: 0.7900 - 160ms/epoch - 160ms/step\n",
            "Epoch 48/200\n",
            "1/1 - 0s - loss: 0.0575 - acc: 0.9857 - val_loss: 0.8844 - val_acc: 0.7920 - 206ms/epoch - 206ms/step\n",
            "Epoch 49/200\n",
            "1/1 - 0s - loss: 0.0379 - acc: 1.0000 - val_loss: 0.8849 - val_acc: 0.7860 - 160ms/epoch - 160ms/step\n",
            "Epoch 50/200\n",
            "1/1 - 0s - loss: 0.0639 - acc: 0.9786 - val_loss: 0.8867 - val_acc: 0.7900 - 175ms/epoch - 175ms/step\n",
            "Epoch 51/200\n",
            "1/1 - 0s - loss: 0.0628 - acc: 0.9929 - val_loss: 0.8902 - val_acc: 0.7900 - 187ms/epoch - 187ms/step\n",
            "Epoch 52/200\n",
            "1/1 - 0s - loss: 0.0439 - acc: 0.9857 - val_loss: 0.8918 - val_acc: 0.7900 - 145ms/epoch - 145ms/step\n",
            "Epoch 53/200\n",
            "1/1 - 0s - loss: 0.0482 - acc: 0.9857 - val_loss: 0.8947 - val_acc: 0.7980 - 194ms/epoch - 194ms/step\n",
            "Epoch 54/200\n",
            "1/1 - 0s - loss: 0.0739 - acc: 0.9786 - val_loss: 0.9012 - val_acc: 0.8020 - 146ms/epoch - 146ms/step\n",
            "Epoch 55/200\n",
            "1/1 - 0s - loss: 0.0518 - acc: 0.9857 - val_loss: 0.9109 - val_acc: 0.7980 - 205ms/epoch - 205ms/step\n",
            "Epoch 56/200\n",
            "1/1 - 0s - loss: 0.0529 - acc: 0.9929 - val_loss: 0.9211 - val_acc: 0.7940 - 154ms/epoch - 154ms/step\n",
            "Epoch 57/200\n",
            "1/1 - 0s - loss: 0.0668 - acc: 0.9786 - val_loss: 0.9239 - val_acc: 0.7940 - 208ms/epoch - 208ms/step\n",
            "Epoch 58/200\n",
            "1/1 - 0s - loss: 0.0509 - acc: 0.9714 - val_loss: 0.9246 - val_acc: 0.8040 - 177ms/epoch - 177ms/step\n",
            "Epoch 59/200\n",
            "1/1 - 0s - loss: 0.0357 - acc: 0.9929 - val_loss: 0.9250 - val_acc: 0.7960 - 165ms/epoch - 165ms/step\n",
            "Epoch 60/200\n",
            "1/1 - 0s - loss: 0.0328 - acc: 0.9929 - val_loss: 0.9266 - val_acc: 0.8020 - 148ms/epoch - 148ms/step\n",
            "Epoch 61/200\n",
            "1/1 - 0s - loss: 0.0341 - acc: 0.9929 - val_loss: 0.9302 - val_acc: 0.7940 - 178ms/epoch - 178ms/step\n",
            "Epoch 62/200\n",
            "1/1 - 0s - loss: 0.0317 - acc: 1.0000 - val_loss: 0.9356 - val_acc: 0.7960 - 164ms/epoch - 164ms/step\n",
            "Epoch 63/200\n",
            "1/1 - 0s - loss: 0.0603 - acc: 0.9857 - val_loss: 0.9448 - val_acc: 0.7940 - 151ms/epoch - 151ms/step\n",
            "Epoch 64/200\n",
            "1/1 - 0s - loss: 0.0299 - acc: 0.9929 - val_loss: 0.9549 - val_acc: 0.7920 - 189ms/epoch - 189ms/step\n",
            "Epoch 65/200\n",
            "1/1 - 0s - loss: 0.0229 - acc: 0.9929 - val_loss: 0.9652 - val_acc: 0.7920 - 128ms/epoch - 128ms/step\n",
            "Epoch 66/200\n",
            "1/1 - 0s - loss: 0.0511 - acc: 0.9857 - val_loss: 0.9723 - val_acc: 0.7920 - 240ms/epoch - 240ms/step\n",
            "Epoch 67/200\n",
            "1/1 - 0s - loss: 0.0293 - acc: 0.9929 - val_loss: 0.9784 - val_acc: 0.7920 - 136ms/epoch - 136ms/step\n",
            "Epoch 68/200\n",
            "1/1 - 0s - loss: 0.0440 - acc: 0.9857 - val_loss: 0.9829 - val_acc: 0.7920 - 190ms/epoch - 190ms/step\n",
            "Epoch 69/200\n",
            "1/1 - 0s - loss: 0.0254 - acc: 1.0000 - val_loss: 0.9886 - val_acc: 0.7960 - 183ms/epoch - 183ms/step\n",
            "Epoch 70/200\n",
            "1/1 - 0s - loss: 0.0577 - acc: 0.9786 - val_loss: 0.9961 - val_acc: 0.7960 - 127ms/epoch - 127ms/step\n",
            "Epoch 71/200\n",
            "1/1 - 0s - loss: 0.0480 - acc: 0.9929 - val_loss: 1.0013 - val_acc: 0.7940 - 248ms/epoch - 248ms/step\n",
            "Epoch 72/200\n",
            "1/1 - 0s - loss: 0.0169 - acc: 1.0000 - val_loss: 1.0058 - val_acc: 0.7980 - 134ms/epoch - 134ms/step\n",
            "Epoch 73/200\n",
            "1/1 - 0s - loss: 0.0355 - acc: 0.9929 - val_loss: 1.0119 - val_acc: 0.7980 - 204ms/epoch - 204ms/step\n",
            "Epoch 74/200\n",
            "1/1 - 0s - loss: 0.0170 - acc: 0.9929 - val_loss: 1.0228 - val_acc: 0.7880 - 144ms/epoch - 144ms/step\n",
            "Epoch 75/200\n",
            "1/1 - 0s - loss: 0.0152 - acc: 0.9929 - val_loss: 1.0343 - val_acc: 0.7880 - 161ms/epoch - 161ms/step\n",
            "Epoch 76/200\n",
            "1/1 - 0s - loss: 0.0096 - acc: 1.0000 - val_loss: 1.0466 - val_acc: 0.7880 - 286ms/epoch - 286ms/step\n",
            "Epoch 77/200\n",
            "1/1 - 0s - loss: 0.0688 - acc: 0.9857 - val_loss: 1.0527 - val_acc: 0.7880 - 142ms/epoch - 142ms/step\n",
            "Epoch 78/200\n",
            "1/1 - 0s - loss: 0.0309 - acc: 0.9929 - val_loss: 1.0560 - val_acc: 0.7880 - 217ms/epoch - 217ms/step\n",
            "Epoch 79/200\n",
            "1/1 - 0s - loss: 0.0513 - acc: 0.9786 - val_loss: 1.0571 - val_acc: 0.7880 - 224ms/epoch - 224ms/step\n",
            "Epoch 80/200\n",
            "1/1 - 0s - loss: 0.0295 - acc: 0.9929 - val_loss: 1.0582 - val_acc: 0.7860 - 186ms/epoch - 186ms/step\n",
            "Epoch 81/200\n",
            "1/1 - 0s - loss: 0.0318 - acc: 0.9857 - val_loss: 1.0589 - val_acc: 0.7860 - 267ms/epoch - 267ms/step\n",
            "Epoch 82/200\n",
            "1/1 - 0s - loss: 0.0233 - acc: 1.0000 - val_loss: 1.0573 - val_acc: 0.7880 - 242ms/epoch - 242ms/step\n",
            "Epoch 83/200\n",
            "1/1 - 0s - loss: 0.0239 - acc: 0.9929 - val_loss: 1.0557 - val_acc: 0.7900 - 172ms/epoch - 172ms/step\n",
            "Epoch 84/200\n",
            "1/1 - 0s - loss: 0.0181 - acc: 1.0000 - val_loss: 1.0536 - val_acc: 0.7860 - 210ms/epoch - 210ms/step\n",
            "Epoch 85/200\n",
            "1/1 - 0s - loss: 0.0217 - acc: 0.9929 - val_loss: 1.0547 - val_acc: 0.7860 - 180ms/epoch - 180ms/step\n",
            "Epoch 86/200\n",
            "1/1 - 0s - loss: 0.0281 - acc: 0.9929 - val_loss: 1.0528 - val_acc: 0.7860 - 247ms/epoch - 247ms/step\n",
            "Epoch 87/200\n",
            "1/1 - 0s - loss: 0.0204 - acc: 1.0000 - val_loss: 1.0528 - val_acc: 0.7860 - 142ms/epoch - 142ms/step\n",
            "Epoch 88/200\n",
            "1/1 - 0s - loss: 0.0337 - acc: 0.9857 - val_loss: 1.0550 - val_acc: 0.7880 - 145ms/epoch - 145ms/step\n",
            "Epoch 89/200\n",
            "1/1 - 0s - loss: 0.0293 - acc: 0.9857 - val_loss: 1.0552 - val_acc: 0.7900 - 258ms/epoch - 258ms/step\n",
            "Epoch 90/200\n",
            "1/1 - 0s - loss: 0.0243 - acc: 0.9929 - val_loss: 1.0575 - val_acc: 0.7900 - 155ms/epoch - 155ms/step\n",
            "Epoch 91/200\n",
            "1/1 - 0s - loss: 0.0172 - acc: 1.0000 - val_loss: 1.0607 - val_acc: 0.7940 - 132ms/epoch - 132ms/step\n",
            "Epoch 92/200\n",
            "1/1 - 0s - loss: 0.0195 - acc: 0.9929 - val_loss: 1.0646 - val_acc: 0.7920 - 190ms/epoch - 190ms/step\n",
            "Epoch 93/200\n",
            "1/1 - 0s - loss: 0.0229 - acc: 1.0000 - val_loss: 1.0692 - val_acc: 0.7880 - 166ms/epoch - 166ms/step\n",
            "Epoch 94/200\n",
            "1/1 - 0s - loss: 0.0316 - acc: 0.9929 - val_loss: 1.0748 - val_acc: 0.7840 - 139ms/epoch - 139ms/step\n",
            "Epoch 95/200\n",
            "1/1 - 0s - loss: 0.0205 - acc: 0.9929 - val_loss: 1.0833 - val_acc: 0.7840 - 144ms/epoch - 144ms/step\n",
            "Epoch 96/200\n",
            "1/1 - 0s - loss: 0.0331 - acc: 0.9857 - val_loss: 1.0911 - val_acc: 0.7820 - 211ms/epoch - 211ms/step\n",
            "Epoch 97/200\n",
            "1/1 - 0s - loss: 0.0216 - acc: 1.0000 - val_loss: 1.0974 - val_acc: 0.7780 - 126ms/epoch - 126ms/step\n",
            "Epoch 98/200\n",
            "1/1 - 0s - loss: 0.0209 - acc: 1.0000 - val_loss: 1.1007 - val_acc: 0.7800 - 317ms/epoch - 317ms/step\n",
            "Epoch 99/200\n",
            "1/1 - 0s - loss: 0.0134 - acc: 1.0000 - val_loss: 1.1021 - val_acc: 0.7800 - 150ms/epoch - 150ms/step\n",
            "Epoch 100/200\n",
            "1/1 - 0s - loss: 0.0194 - acc: 1.0000 - val_loss: 1.1042 - val_acc: 0.7800 - 157ms/epoch - 157ms/step\n",
            "Epoch 101/200\n",
            "1/1 - 0s - loss: 0.0130 - acc: 1.0000 - val_loss: 1.1088 - val_acc: 0.7820 - 148ms/epoch - 148ms/step\n",
            "Epoch 102/200\n",
            "1/1 - 0s - loss: 0.0214 - acc: 1.0000 - val_loss: 1.1142 - val_acc: 0.7820 - 192ms/epoch - 192ms/step\n",
            "Epoch 103/200\n",
            "1/1 - 0s - loss: 0.0253 - acc: 0.9929 - val_loss: 1.1189 - val_acc: 0.7840 - 216ms/epoch - 216ms/step\n",
            "Epoch 104/200\n",
            "1/1 - 0s - loss: 0.0079 - acc: 1.0000 - val_loss: 1.1239 - val_acc: 0.7880 - 157ms/epoch - 157ms/step\n",
            "Epoch 105/200\n",
            "1/1 - 0s - loss: 0.0347 - acc: 0.9857 - val_loss: 1.1276 - val_acc: 0.7760 - 145ms/epoch - 145ms/step\n",
            "Epoch 106/200\n",
            "1/1 - 0s - loss: 0.0209 - acc: 1.0000 - val_loss: 1.1307 - val_acc: 0.7760 - 290ms/epoch - 290ms/step\n",
            "Epoch 107/200\n",
            "1/1 - 0s - loss: 0.0147 - acc: 0.9929 - val_loss: 1.1318 - val_acc: 0.7780 - 159ms/epoch - 159ms/step\n",
            "Epoch 108/200\n",
            "1/1 - 0s - loss: 0.0118 - acc: 1.0000 - val_loss: 1.1343 - val_acc: 0.7800 - 229ms/epoch - 229ms/step\n"
          ]
        }
      ]
    },
    {
      "cell_type": "code",
      "source": [
        "sg.utils.plot_history(history)"
      ],
      "metadata": {
        "colab": {
          "base_uri": "https://localhost:8080/",
          "height": 585
        },
        "id": "Rzp8ge_qsvSB",
        "outputId": "e4f77009-9d31-4e2f-ffe0-02258c84c992"
      },
      "execution_count": 72,
      "outputs": [
        {
          "output_type": "display_data",
          "data": {
            "text/plain": [
              "<Figure size 504x576 with 2 Axes>"
            ],
            "image/png": "[encoded data removed]"
          },
          "metadata": {
            "needs_background": "light"
          }
        }
      ]
    },
    {
      "cell_type": "code",
      "source": [
        "test_gen=generator.flow(test_subjects.index, test_targets)"
      ],
      "metadata": {
        "id": "drMynHt2sv_S"
      },
      "execution_count": 73,
      "outputs": []
    },
    {
      "cell_type": "code",
      "source": [
        "all_nodes=node_subjects.index\n",
        "all_gen=generator.flow(all_nodes)\n",
        "all_predictions=model.predict(all_gen)"
      ],
      "metadata": {
        "id": "yU_LCVaGsyJU"
      },
      "execution_count": 74,
      "outputs": []
    },
    {
      "cell_type": "code",
      "source": [
        "node_predictions=target_encoding.inverse_transform(all_predictions.squeeze())"
      ],
      "metadata": {
        "id": "iSO50jBHszlX"
      },
      "execution_count": 75,
      "outputs": []
    },
    {
      "cell_type": "code",
      "source": [
        "df=pd.DataFrame({\"Predicted\":node_predictions, \"True\":node_subjects})\n",
        "df.head(20)"
      ],
      "metadata": {
        "colab": {
          "base_uri": "https://localhost:8080/",
          "height": 676
        },
        "id": "Vgelh3Xts1Uh",
        "outputId": "97f8e840-6d99-475a-c1ea-497ed2794109"
      },
      "execution_count": 79,
      "outputs": [
        {
          "output_type": "execute_result",
          "data": {
            "text/plain": [
              "                      Predicted                    True\n",
              "31336           Neural_Networks         Neural_Networks\n",
              "1061127           Rule_Learning           Rule_Learning\n",
              "1106406  Reinforcement_Learning  Reinforcement_Learning\n",
              "13195    Reinforcement_Learning  Reinforcement_Learning\n",
              "37879     Probabilistic_Methods   Probabilistic_Methods\n",
              "1126012   Probabilistic_Methods   Probabilistic_Methods\n",
              "1107140  Reinforcement_Learning                  Theory\n",
              "1102850         Neural_Networks         Neural_Networks\n",
              "31349           Neural_Networks         Neural_Networks\n",
              "1106418                  Theory                  Theory\n",
              "1123188         Neural_Networks         Neural_Networks\n",
              "1128990  Reinforcement_Learning      Genetic_Algorithms\n",
              "109323    Probabilistic_Methods   Probabilistic_Methods\n",
              "217139   Reinforcement_Learning              Case_Based\n",
              "31353           Neural_Networks         Neural_Networks\n",
              "32083           Neural_Networks         Neural_Networks\n",
              "1126029  Reinforcement_Learning  Reinforcement_Learning\n",
              "1118017         Neural_Networks         Neural_Networks\n",
              "49482           Neural_Networks         Neural_Networks\n",
              "753265          Neural_Networks         Neural_Networks"
            ],
            "text/html": [
              "\n",
              "  <div id=\"df-881700f3-0708-44fa-8032-e37f256c812e\">\n",
              "    <div class=\"colab-df-container\">\n",
              "      <div>\n",
              "<style scoped>\n",
              "    .dataframe tbody tr th:only-of-type {\n",
              "        vertical-align: middle;\n",
              "    }\n",
              "\n",
              "    .dataframe tbody tr th {\n",
              "        vertical-align: top;\n",
              "    }\n",
              "\n",
              "    .dataframe thead th {\n",
              "        text-align: right;\n",
              "    }\n",
              "</style>\n",
              "<table border=\"1\" class=\"dataframe\">\n",
              "  <thead>\n",
              "    <tr style=\"text-align: right;\">\n",
              "      <th></th>\n",
              "      <th>Predicted</th>\n",
              "      <th>True</th>\n",
              "    </tr>\n",
              "  </thead>\n",
              "  <tbody>\n",
              "    <tr>\n",
              "      <th>31336</th>\n",
              "      <td>Neural_Networks</td>\n",
              "      <td>Neural_Networks</td>\n",
              "    </tr>\n",
              "    <tr>\n",
              "      <th>1061127</th>\n",
              "      <td>Rule_Learning</td>\n",
              "      <td>Rule_Learning</td>\n",
              "    </tr>\n",
              "    <tr>\n",
              "      <th>1106406</th>\n",
              "      <td>Reinforcement_Learning</td>\n",
              "      <td>Reinforcement_Learning</td>\n",
              "    </tr>\n",
              "    <tr>\n",
              "      <th>13195</th>\n",
              "      <td>Reinforcement_Learning</td>\n",
              "      <td>Reinforcement_Learning</td>\n",
              "    </tr>\n",
              "    <tr>\n",
              "      <th>37879</th>\n",
              "      <td>Probabilistic_Methods</td>\n",
              "      <td>Probabilistic_Methods</td>\n",
              "    </tr>\n",
              "    <tr>\n",
              "      <th>1126012</th>\n",
              "      <td>Probabilistic_Methods</td>\n",
              "      <td>Probabilistic_Methods</td>\n",
              "    </tr>\n",
              "    <tr>\n",
              "      <th>1107140</th>\n",
              "      <td>Reinforcement_Learning</td>\n",
              "      <td>Theory</td>\n",
              "    </tr>\n",
              "    <tr>\n",
              "      <th>1102850</th>\n",
              "      <td>Neural_Networks</td>\n",
              "      <td>Neural_Networks</td>\n",
              "    </tr>\n",
              "    <tr>\n",
              "      <th>31349</th>\n",
              "      <td>Neural_Networks</td>\n",
              "      <td>Neural_Networks</td>\n",
              "    </tr>\n",
              "    <tr>\n",
              "      <th>1106418</th>\n",
              "      <td>Theory</td>\n",
              "      <td>Theory</td>\n",
              "    </tr>\n",
              "    <tr>\n",
              "      <th>1123188</th>\n",
              "      <td>Neural_Networks</td>\n",
              "      <td>Neural_Networks</td>\n",
              "    </tr>\n",
              "    <tr>\n",
              "      <th>1128990</th>\n",
              "      <td>Reinforcement_Learning</td>\n",
              "      <td>Genetic_Algorithms</td>\n",
              "    </tr>\n",
              "    <tr>\n",
              "      <th>109323</th>\n",
              "      <td>Probabilistic_Methods</td>\n",
              "      <td>Probabilistic_Methods</td>\n",
              "    </tr>\n",
              "    <tr>\n",
              "      <th>217139</th>\n",
              "      <td>Reinforcement_Learning</td>\n",
              "      <td>Case_Based</td>\n",
              "    </tr>\n",
              "    <tr>\n",
              "      <th>31353</th>\n",
              "      <td>Neural_Networks</td>\n",
              "      <td>Neural_Networks</td>\n",
              "    </tr>\n",
              "    <tr>\n",
              "      <th>32083</th>\n",
              "      <td>Neural_Networks</td>\n",
              "      <td>Neural_Networks</td>\n",
              "    </tr>\n",
              "    <tr>\n",
              "      <th>1126029</th>\n",
              "      <td>Reinforcement_Learning</td>\n",
              "      <td>Reinforcement_Learning</td>\n",
              "    </tr>\n",
              "    <tr>\n",
              "      <th>1118017</th>\n",
              "      <td>Neural_Networks</td>\n",
              "      <td>Neural_Networks</td>\n",
              "    </tr>\n",
              "    <tr>\n",
              "      <th>49482</th>\n",
              "      <td>Neural_Networks</td>\n",
              "      <td>Neural_Networks</td>\n",
              "    </tr>\n",
              "    <tr>\n",
              "      <th>753265</th>\n",
              "      <td>Neural_Networks</td>\n",
              "      <td>Neural_Networks</td>\n",
              "    </tr>\n",
              "  </tbody>\n",
              "</table>\n",
              "</div>\n",
              "      <button class=\"colab-df-convert\" onclick=\"convertToInteractive('df-881700f3-0708-44fa-8032-e37f256c812e')\"\n",
              "              title=\"Convert this dataframe to an interactive table.\"\n",
              "              style=\"display:none;\">\n",
              "        \n",
              "  <svg xmlns=\"http://www.w3.org/2000/svg\" height=\"24px\"viewBox=\"0 0 24 24\"\n",
              "       width=\"24px\">\n",
              "    <path d=\"M0 0h24v24H0V0z\" fill=\"none\"/>\n",
              "    <path d=\"M18.56 5.44l.94 2.06.94-2.06 2.06-.94-2.06-.94-.94-2.06-.94 2.06-2.06.94zm-11 1L8.5 8.5l.94-2.06 2.06-.94-2.06-.94L8.5 2.5l-.94 2.06-2.06.94zm10 10l.94 2.06.94-2.06 2.06-.94-2.06-.94-.94-2.06-.94 2.06-2.06.94z\"/><path d=\"M17.41 7.96l-1.37-1.37c-.4-.4-.92-.59-1.43-.59-.52 0-1.04.2-1.43.59L10.3 9.45l-7.72 7.72c-.78.78-.78 2.05 0 2.83L4 21.41c.39.39.9.59 1.41.59.51 0 1.02-.2 1.41-.59l7.78-7.78 2.81-2.81c.8-.78.8-2.07 0-2.86zM5.41 20L4 18.59l7.72-7.72 1.47 1.35L5.41 20z\"/>\n",
              "  </svg>\n",
              "      </button>\n",
              "      \n",
              "  <style>\n",
              "    .colab-df-container {\n",
              "      display:flex;\n",
              "      flex-wrap:wrap;\n",
              "      gap: 12px;\n",
              "    }\n",
              "\n",
              "    .colab-df-convert {\n",
              "      background-color: #E8F0FE;\n",
              "      border: none;\n",
              "      border-radius: 50%;\n",
              "      cursor: pointer;\n",
              "      display: none;\n",
              "      fill: #1967D2;\n",
              "      height: 32px;\n",
              "      padding: 0 0 0 0;\n",
              "      width: 32px;\n",
              "    }\n",
              "\n",
              "    .colab-df-convert:hover {\n",
              "      background-color: #E2EBFA;\n",
              "      box-shadow: 0px 1px 2px rgba(60, 64, 67, 0.3), 0px 1px 3px 1px rgba(60, 64, 67, 0.15);\n",
              "      fill: #174EA6;\n",
              "    }\n",
              "\n",
              "    [theme=dark] .colab-df-convert {\n",
              "      background-color: #3B4455;\n",
              "      fill: #D2E3FC;\n",
              "    }\n",
              "\n",
              "    [theme=dark] .colab-df-convert:hover {\n",
              "      background-color: #434B5C;\n",
              "      box-shadow: 0px 1px 3px 1px rgba(0, 0, 0, 0.15);\n",
              "      filter: drop-shadow(0px 1px 2px rgba(0, 0, 0, 0.3));\n",
              "      fill: #FFFFFF;\n",
              "    }\n",
              "  </style>\n",
              "\n",
              "      <script>\n",
              "        const buttonEl =\n",
              "          document.querySelector('#df-881700f3-0708-44fa-8032-e37f256c812e button.colab-df-convert');\n",
              "        buttonEl.style.display =\n",
              "          google.colab.kernel.accessAllowed ? 'block' : 'none';\n",
              "\n",
              "        async function convertToInteractive(key) {\n",
              "          const element = document.querySelector('#df-881700f3-0708-44fa-8032-e37f256c812e');\n",
              "          const dataTable =\n",
              "            await google.colab.kernel.invokeFunction('convertToInteractive',\n",
              "                                                     [key], {});\n",
              "          if (!dataTable) return;\n",
              "\n",
              "          const docLinkHtml = 'Like what you see? Visit the ' +\n",
              "            '<a target=\"_blank\" href=https://colab.research.google.com/notebooks/data_table.ipynb>data table notebook</a>'\n",
              "            + ' to learn more about interactive tables.';\n",
              "          element.innerHTML = '';\n",
              "          dataTable['output_type'] = 'display_data';\n",
              "          await google.colab.output.renderOutput(dataTable, element);\n",
              "          const docLink = document.createElement('div');\n",
              "          docLink.innerHTML = docLinkHtml;\n",
              "          element.appendChild(docLink);\n",
              "        }\n",
              "      </script>\n",
              "    </div>\n",
              "  </div>\n",
              "  "
            ]
          },
          "metadata": {},
          "execution_count": 79
        }
      ]
    },
    {
      "cell_type": "code",
      "source": [
        "embedding_model=Model(inputs=x_inp, outputs=x_out)\n",
        "emb=embedding_model.predict(all_gen)\n",
        "emb.shape"
      ],
      "metadata": {
        "colab": {
          "base_uri": "https://localhost:8080/"
        },
        "id": "6m1TWxSBtC6v",
        "outputId": "a40268df-fb62-4e9f-e0e4-7fd2eafeda54"
      },
      "execution_count": 80,
      "outputs": [
        {
          "output_type": "execute_result",
          "data": {
            "text/plain": [
              "(1, 2708, 16)"
            ]
          },
          "metadata": {},
          "execution_count": 80
        }
      ]
    },
    {
      "cell_type": "code",
      "source": [
        "from sklearn.decomposition import PCA\n",
        "from sklearn.manifold import TSNE\n",
        "X=emb.squeeze(0)\n",
        "X.shape"
      ],
      "metadata": {
        "colab": {
          "base_uri": "https://localhost:8080/"
        },
        "id": "ip3ed6UEv21g",
        "outputId": "7b68a775-3b1d-4963-a93c-ad710fd341c7"
      },
      "execution_count": 81,
      "outputs": [
        {
          "output_type": "execute_result",
          "data": {
            "text/plain": [
              "(2708, 16)"
            ]
          },
          "metadata": {},
          "execution_count": 81
        }
      ]
    },
    {
      "cell_type": "code",
      "source": [
        "transform = TSNE\n",
        "trans=transform(n_components=2)\n",
        "X_reduced=trans.fit_transform(X)\n",
        "X_reduced.shape"
      ],
      "metadata": {
        "colab": {
          "base_uri": "https://localhost:8080/"
        },
        "id": "h20mOTtGwcIG",
        "outputId": "1e5edfbc-6d64-4bb9-d71b-de43d4c2b336"
      },
      "execution_count": 82,
      "outputs": [
        {
          "output_type": "stream",
          "name": "stderr",
          "text": [
            "/usr/local/lib/python3.7/dist-packages/sklearn/manifold/_t_sne.py:783: FutureWarning: The default initialization in TSNE will change from 'random' to 'pca' in 1.2.\n",
            "  FutureWarning,\n",
            "/usr/local/lib/python3.7/dist-packages/sklearn/manifold/_t_sne.py:793: FutureWarning: The default learning rate in TSNE will change from 200.0 to 'auto' in 1.2.\n",
            "  FutureWarning,\n"
          ]
        },
        {
          "output_type": "execute_result",
          "data": {
            "text/plain": [
              "(2708, 2)"
            ]
          },
          "metadata": {},
          "execution_count": 82
        }
      ]
    },
    {
      "cell_type": "code",
      "source": [
        "fig, ax = plt.subplots(figsize=(7, 7))\n",
        "ax.scatter(\n",
        "    X_reduced[:, 0],\n",
        "    X_reduced[:, 1],\n",
        "    c=node_subjects.astype(\"category\").cat.codes,\n",
        "    cmap=\"jet\",\n",
        "    alpha=0.7,\n",
        ")\n",
        "ax.set(\n",
        "    aspect=\"equal\",\n",
        "    xlabel=\"$X_1$\",\n",
        "    ylabel=\"$X_2$\",\n",
        "    title=f\"{transform.__name__} visualization of GCN embeddings for cora dataset\",\n",
        ")"
      ],
      "metadata": {
        "colab": {
          "base_uri": "https://localhost:8080/",
          "height": 484
        },
        "id": "5R1uiLc0xwRV",
        "outputId": "b90ce596-665f-4a71-df0b-ce714a7aa07b"
      },
      "execution_count": 83,
      "outputs": [
        {
          "output_type": "execute_result",
          "data": {
            "text/plain": [
              "[Text(0, 0.5, '$X_2$'),\n",
              " Text(0.5, 0, '$X_1$'),\n",
              " Text(0.5, 1.0, 'TSNE visualization of GCN embeddings for cora dataset'),\n",
              " None]"
            ]
          },
          "metadata": {},
          "execution_count": 83
        },
        {
          "output_type": "display_data",
          "data": {
            "text/plain": [
              "<Figure size 504x504 with 1 Axes>"
            ],
            "image/png": "[encoded data removed]"
          },
          "metadata": {
            "needs_background": "light"
          }
        }
      ]
    },
    {
      "cell_type": "code",
      "source": [
        ""
      ],
      "metadata": {
        "id": "IeWUVX4iy2dA"
      },
      "execution_count": null,
      "outputs": []
    }
  ]
}