{
  "nbformat": 4,
  "nbformat_minor": 0,
  "metadata": {
    "colab": {
      "name": "RNN.ipynb",
      "provenance": []
    },
    "kernelspec": {
      "name": "python3",
      "display_name": "Python 3"
    },
    "language_info": {
      "name": "python"
    },
    "accelerator": "GPU"
  },
  "cells": [
    {
      "cell_type": "code",
      "execution_count": 1,
      "metadata": {
        "id": "BPq1Enaj3ihM"
      },
      "outputs": [],
      "source": [
        "import pandas as pd\n",
        "import numpy as np\n",
        "import matplotlib. pyplot as plt\n",
        "from tensorflow.keras import preprocessing\n",
        "\n",
        "from keras.models import Sequential\n",
        "from keras.layers import Dense, Flatten, SimpleRNN, LSTM\n",
        "from keras.layers.embeddings import Embedding\n",
        "from tensorflow.keras.optimizers import SGD\n",
        "\n",
        "from keras.datasets import mnist\n",
        "from tensorflow.keras.utils import to_categorical\n",
        "from keras import Input\n",
        "from tensorflow.keras.optimizers import Adam"
      ]
    },
    {
      "cell_type": "code",
      "source": [
        "(x_train2, y_train2), (x_test2, y_test2) = mnist.load_data()"
      ],
      "metadata": {
        "id": "FMRyy_HT42ZT"
      },
      "execution_count": 2,
      "outputs": []
    },
    {
      "cell_type": "code",
      "source": [
        "print(x_train2.shape)\n",
        "print(x_test2.shape)\n",
        "print(y_train2.shape)"
      ],
      "metadata": {
        "colab": {
          "base_uri": "https://localhost:8080/"
        },
        "id": "ODNLZ23E5cVe",
        "outputId": "8b7e5091-d977-480c-9e48-bb71fefcf07d"
      },
      "execution_count": 3,
      "outputs": [
        {
          "output_type": "stream",
          "name": "stdout",
          "text": [
            "(60000, 28, 28)\n",
            "(10000, 28, 28)\n",
            "(60000,)\n"
          ]
        }
      ]
    },
    {
      "cell_type": "code",
      "source": [
        "x_val2 = x_train2[:5000]\n",
        "x_train2 =  x_train2[5000:]\n",
        "y_val2 = y_train2[:5000]\n",
        "y_train2 = y_train2[5000:]\n",
        "\n",
        "print(x_val2.shape)\n",
        "print(x_train2.shape)\n",
        "print(y_val2.shape)\n",
        "print(y_train2.shape)"
      ],
      "metadata": {
        "colab": {
          "base_uri": "https://localhost:8080/"
        },
        "id": "OznMQcfn5ks4",
        "outputId": "7d130a42-4ac1-4af8-ac2f-b98801993198"
      },
      "execution_count": 4,
      "outputs": [
        {
          "output_type": "stream",
          "name": "stdout",
          "text": [
            "(5000, 28, 28)\n",
            "(55000, 28, 28)\n",
            "(5000,)\n",
            "(55000,)\n"
          ]
        }
      ]
    },
    {
      "cell_type": "code",
      "source": [
        "x_train2 = x_train2.astype(\"float32\")\n",
        "x_test2 = x_test2.astype('float32')\n",
        "x_val2 = x_val2.astype(\"float32\")\n",
        "x_train2, x_test2, x_val2 = x_train2/255.0, x_test2/255.0, x_val2/255.0"
      ],
      "metadata": {
        "id": "1KjR2_vc6Y7_"
      },
      "execution_count": 5,
      "outputs": []
    },
    {
      "cell_type": "code",
      "source": [
        "y_train2 = to_categorical(y_train2, 10)\n",
        "y_val2 = to_categorical(y_val2, 10)\n",
        "y_test2 = to_categorical(y_test2, 10)"
      ],
      "metadata": {
        "id": "t-GJA0Ol7che"
      },
      "execution_count": 6,
      "outputs": []
    },
    {
      "cell_type": "code",
      "source": [
        "nn_model = Sequential()\n",
        "nn_model.add(SimpleRNN(180, activation=\"relu\", input_shape=(28,28)))\n",
        "nn_model.add(Dense(10, activation=\"sigmoid\"))\n",
        "nn_model.compile(optimizer=\"Adam\",loss=\"categorical_crossentropy\", metrics=[\"accuracy\"])"
      ],
      "metadata": {
        "id": "HNmA-rqO78Dv"
      },
      "execution_count": 7,
      "outputs": []
    },
    {
      "cell_type": "code",
      "source": [
        "nn_model.summary()"
      ],
      "metadata": {
        "colab": {
          "base_uri": "https://localhost:8080/"
        },
        "id": "_8j9QIpz84p-",
        "outputId": "be02fdd4-c03f-4f23-8372-a16d0a2e1268"
      },
      "execution_count": 8,
      "outputs": [
        {
          "output_type": "stream",
          "name": "stdout",
          "text": [
            "Model: \"sequential\"\n",
            "_________________________________________________________________\n",
            " Layer (type)                Output Shape              Param #   \n",
            "=================================================================\n",
            " simple_rnn (SimpleRNN)      (None, 180)               37620     \n",
            "                                                                 \n",
            " dense (Dense)               (None, 10)                1810      \n",
            "                                                                 \n",
            "=================================================================\n",
            "Total params: 39,430\n",
            "Trainable params: 39,430\n",
            "Non-trainable params: 0\n",
            "_________________________________________________________________\n"
          ]
        }
      ]
    },
    {
      "cell_type": "code",
      "source": [
        "training_hist =  nn_model.fit(x_train2, y_train2, batch_size=100, epochs=10, verbose=2, validation_data = [x_val2, y_val2])"
      ],
      "metadata": {
        "colab": {
          "base_uri": "https://localhost:8080/"
        },
        "id": "_gnb2jjx9GaH",
        "outputId": "476b5790-b600-49ef-9ceb-1388f62b9b21"
      },
      "execution_count": 9,
      "outputs": [
        {
          "output_type": "stream",
          "name": "stdout",
          "text": [
            "Epoch 1/10\n",
            "550/550 - 16s - loss: 0.4394 - accuracy: 0.8565 - val_loss: 0.2298 - val_accuracy: 0.9336 - 16s/epoch - 29ms/step\n",
            "Epoch 2/10\n",
            "550/550 - 10s - loss: 0.1748 - accuracy: 0.9470 - val_loss: 0.1368 - val_accuracy: 0.9620 - 10s/epoch - 19ms/step\n",
            "Epoch 3/10\n",
            "550/550 - 9s - loss: 0.1356 - accuracy: 0.9600 - val_loss: 0.1240 - val_accuracy: 0.9614 - 9s/epoch - 17ms/step\n",
            "Epoch 4/10\n",
            "550/550 - 9s - loss: 0.1222 - accuracy: 0.9649 - val_loss: 0.1187 - val_accuracy: 0.9664 - 9s/epoch - 16ms/step\n",
            "Epoch 5/10\n",
            "550/550 - 9s - loss: 0.1068 - accuracy: 0.9690 - val_loss: 0.1129 - val_accuracy: 0.9660 - 9s/epoch - 17ms/step\n",
            "Epoch 6/10\n",
            "550/550 - 9s - loss: 0.0954 - accuracy: 0.9717 - val_loss: 0.0971 - val_accuracy: 0.9712 - 9s/epoch - 17ms/step\n",
            "Epoch 7/10\n",
            "550/550 - 9s - loss: 0.0932 - accuracy: 0.9725 - val_loss: 0.1314 - val_accuracy: 0.9692 - 9s/epoch - 17ms/step\n",
            "Epoch 8/10\n",
            "550/550 - 9s - loss: 0.0840 - accuracy: 0.9757 - val_loss: 0.0851 - val_accuracy: 0.9752 - 9s/epoch - 17ms/step\n",
            "Epoch 9/10\n",
            "550/550 - 9s - loss: 0.0789 - accuracy: 0.9765 - val_loss: 0.0939 - val_accuracy: 0.9774 - 9s/epoch - 17ms/step\n",
            "Epoch 10/10\n",
            "550/550 - 9s - loss: 0.0740 - accuracy: 0.9780 - val_loss: 0.0990 - val_accuracy: 0.9722 - 9s/epoch - 17ms/step\n"
          ]
        }
      ]
    },
    {
      "cell_type": "code",
      "source": [
        "plt.plot(training_hist.history['loss'])\n",
        "plt.plot(training_hist.history['val_loss'])\n",
        "plt.title(\"Training and Validation Loss\")\n",
        "plt.legend(['training' , 'validation'],loc='upper right')\n",
        "plt.xlabel('epoch')\n",
        "plt.ylabel('loss')"
      ],
      "metadata": {
        "colab": {
          "base_uri": "https://localhost:8080/",
          "height": 313
        },
        "id": "4h0RjvfD9mmi",
        "outputId": "db802b79-321e-47a4-8f56-32f8c340f163"
      },
      "execution_count": 10,
      "outputs": [
        {
          "output_type": "execute_result",
          "data": {
            "text/plain": [
              "Text(0, 0.5, 'loss')"
            ]
          },
          "metadata": {},
          "execution_count": 10
        },
        {
          "output_type": "display_data",
          "data": {
            "text/plain": [
              "<Figure size 432x288 with 1 Axes>"
            ],
            "image/png": "[encoded data removed]"
          },
          "metadata": {
            "needs_background": "light"
          }
        }
      ]
    },
    {
      "cell_type": "code",
      "source": [
        "plt.plot(training_hist.history['accuracy'])\n",
        "plt.plot(training_hist.history['val_accuracy'])\n",
        "plt.title(\"Training and Validation Accuracy\")\n",
        "plt.legend(['training' , 'validation'],loc='upper right')\n",
        "plt.xlabel('epoch')\n",
        "plt.ylabel('accuracy')"
      ],
      "metadata": {
        "colab": {
          "base_uri": "https://localhost:8080/",
          "height": 313
        },
        "id": "YSqSghI7_xE9",
        "outputId": "097fc20e-e814-4935-f92c-fa4b7ca5c8b2"
      },
      "execution_count": 11,
      "outputs": [
        {
          "output_type": "execute_result",
          "data": {
            "text/plain": [
              "Text(0, 0.5, 'accuracy')"
            ]
          },
          "metadata": {},
          "execution_count": 11
        },
        {
          "output_type": "display_data",
          "data": {
            "text/plain": [
              "<Figure size 432x288 with 1 Axes>"
            ],
            "image/png": "[encoded data removed]"
          },
          "metadata": {
            "needs_background": "light"
          }
        }
      ]
    }
  ]
}