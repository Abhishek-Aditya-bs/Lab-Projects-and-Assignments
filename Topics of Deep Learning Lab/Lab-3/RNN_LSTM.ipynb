{
  "nbformat": 4,
  "nbformat_minor": 0,
  "metadata": {
    "colab": {
      "name": "RNN_LSTM.ipynb",
      "provenance": [],
      "collapsed_sections": []
    },
    "kernelspec": {
      "name": "python3",
      "display_name": "Python 3"
    },
    "language_info": {
      "name": "python"
    },
    "accelerator": "GPU"
  },
  "cells": [
    {
      "cell_type": "code",
      "execution_count": 1,
      "metadata": {
        "id": "BPq1Enaj3ihM"
      },
      "outputs": [],
      "source": [
        "import pandas as pd\n",
        "import numpy as np\n",
        "import matplotlib. pyplot as plt\n",
        "from tensorflow.keras import preprocessing\n",
        "\n",
        "from keras.models import Sequential\n",
        "from keras.layers import Dense, Flatten, SimpleRNN, LSTM\n",
        "from keras.layers.embeddings import Embedding\n",
        "from tensorflow.keras.optimizers import SGD\n",
        "\n",
        "from keras.datasets import mnist\n",
        "from tensorflow.keras.utils import to_categorical\n",
        "from keras import Input\n",
        "from tensorflow.keras.optimizers import Adam"
      ]
    },
    {
      "cell_type": "code",
      "source": [
        "(x_train2, y_train2), (x_test2, y_test2) = mnist.load_data()"
      ],
      "metadata": {
        "id": "FMRyy_HT42ZT",
        "colab": {
          "base_uri": "https://localhost:8080/"
        },
        "outputId": "60599ed6-8314-49b6-8064-b7efaf35a485"
      },
      "execution_count": 2,
      "outputs": [
        {
          "output_type": "stream",
          "name": "stdout",
          "text": [
            "Downloading data from https://storage.googleapis.com/tensorflow/tf-keras-datasets/mnist.npz\n",
            "11493376/11490434 [==============================] - 0s 0us/step\n",
            "11501568/11490434 [==============================] - 0s 0us/step\n"
          ]
        }
      ]
    },
    {
      "cell_type": "code",
      "source": [
        "print(x_train2.shape)\n",
        "print(x_test2.shape)\n",
        "print(y_train2.shape)"
      ],
      "metadata": {
        "colab": {
          "base_uri": "https://localhost:8080/"
        },
        "id": "ODNLZ23E5cVe",
        "outputId": "52ede49f-80e8-4f14-be9d-59e75829812d"
      },
      "execution_count": 3,
      "outputs": [
        {
          "output_type": "stream",
          "name": "stdout",
          "text": [
            "(60000, 28, 28)\n",
            "(10000, 28, 28)\n",
            "(60000,)\n"
          ]
        }
      ]
    },
    {
      "cell_type": "code",
      "source": [
        "x_val2 = x_train2[:5000]\n",
        "x_train2 =  x_train2[5000:]\n",
        "y_val2 = y_train2[:5000]\n",
        "y_train2 = y_train2[5000:]\n",
        "\n",
        "print(x_val2.shape)\n",
        "print(x_train2.shape)\n",
        "print(y_val2.shape)\n",
        "print(y_train2.shape)"
      ],
      "metadata": {
        "colab": {
          "base_uri": "https://localhost:8080/"
        },
        "id": "OznMQcfn5ks4",
        "outputId": "321482ac-c793-4adb-ed8a-081882c94734"
      },
      "execution_count": 4,
      "outputs": [
        {
          "output_type": "stream",
          "name": "stdout",
          "text": [
            "(5000, 28, 28)\n",
            "(55000, 28, 28)\n",
            "(5000,)\n",
            "(55000,)\n"
          ]
        }
      ]
    },
    {
      "cell_type": "code",
      "source": [
        "x_train2 = x_train2.astype(\"float32\")\n",
        "x_test2 = x_test2.astype('float32')\n",
        "x_val2 = x_val2.astype(\"float32\")\n",
        "x_train2, x_test2, x_val2 = x_train2/255.0, x_test2/255.0, x_val2/255.0"
      ],
      "metadata": {
        "id": "1KjR2_vc6Y7_"
      },
      "execution_count": 5,
      "outputs": []
    },
    {
      "cell_type": "code",
      "source": [
        "y_train2 = to_categorical(y_train2, 10)\n",
        "y_val2 = to_categorical(y_val2, 10)\n",
        "y_test2 = to_categorical(y_test2, 10)"
      ],
      "metadata": {
        "id": "t-GJA0Ol7che"
      },
      "execution_count": 6,
      "outputs": []
    },
    {
      "cell_type": "code",
      "source": [
        "nn_model = Sequential()\n",
        "nn_model.add(SimpleRNN(180, activation=\"relu\", input_shape=(28,28)))\n",
        "nn_model.add(Dense(10, activation=\"sigmoid\"))\n",
        "nn_model.compile(optimizer=\"Adam\",loss=\"categorical_crossentropy\", metrics=[\"accuracy\"])"
      ],
      "metadata": {
        "id": "HNmA-rqO78Dv"
      },
      "execution_count": 7,
      "outputs": []
    },
    {
      "cell_type": "code",
      "source": [
        "nn_model.summary()"
      ],
      "metadata": {
        "colab": {
          "base_uri": "https://localhost:8080/"
        },
        "id": "_8j9QIpz84p-",
        "outputId": "85fb056b-fd58-4e17-ef07-2d9cb2e1c0de"
      },
      "execution_count": 8,
      "outputs": [
        {
          "output_type": "stream",
          "name": "stdout",
          "text": [
            "Model: \"sequential\"\n",
            "_________________________________________________________________\n",
            " Layer (type)                Output Shape              Param #   \n",
            "=================================================================\n",
            " simple_rnn (SimpleRNN)      (None, 180)               37620     \n",
            "                                                                 \n",
            " dense (Dense)               (None, 10)                1810      \n",
            "                                                                 \n",
            "=================================================================\n",
            "Total params: 39,430\n",
            "Trainable params: 39,430\n",
            "Non-trainable params: 0\n",
            "_________________________________________________________________\n"
          ]
        }
      ]
    },
    {
      "cell_type": "code",
      "source": [
        "training_hist =  nn_model.fit(x_train2, y_train2, batch_size=100, epochs=10, verbose=2, validation_data = [x_val2, y_val2])"
      ],
      "metadata": {
        "colab": {
          "base_uri": "https://localhost:8080/"
        },
        "id": "_gnb2jjx9GaH",
        "outputId": "bfd03216-60f0-4974-a23d-86e96764e5fb"
      },
      "execution_count": 9,
      "outputs": [
        {
          "output_type": "stream",
          "name": "stdout",
          "text": [
            "Epoch 1/10\n",
            "550/550 - 18s - loss: 0.5068 - accuracy: 0.8344 - val_loss: 0.2382 - val_accuracy: 0.9290 - 18s/epoch - 33ms/step\n",
            "Epoch 2/10\n",
            "550/550 - 11s - loss: 0.1812 - accuracy: 0.9470 - val_loss: 0.1482 - val_accuracy: 0.9568 - 11s/epoch - 20ms/step\n",
            "Epoch 3/10\n",
            "550/550 - 11s - loss: 0.1441 - accuracy: 0.9571 - val_loss: 0.1418 - val_accuracy: 0.9592 - 11s/epoch - 20ms/step\n",
            "Epoch 4/10\n",
            "550/550 - 11s - loss: 0.1168 - accuracy: 0.9661 - val_loss: 0.1316 - val_accuracy: 0.9632 - 11s/epoch - 20ms/step\n",
            "Epoch 5/10\n",
            "550/550 - 11s - loss: 0.1135 - accuracy: 0.9672 - val_loss: 0.0978 - val_accuracy: 0.9702 - 11s/epoch - 20ms/step\n",
            "Epoch 6/10\n",
            "550/550 - 11s - loss: 0.0998 - accuracy: 0.9715 - val_loss: 0.1466 - val_accuracy: 0.9582 - 11s/epoch - 20ms/step\n",
            "Epoch 7/10\n",
            "550/550 - 11s - loss: 0.0942 - accuracy: 0.9727 - val_loss: 0.0957 - val_accuracy: 0.9778 - 11s/epoch - 20ms/step\n",
            "Epoch 8/10\n",
            "550/550 - 10s - loss: 0.0860 - accuracy: 0.9753 - val_loss: 0.0750 - val_accuracy: 0.9810 - 10s/epoch - 19ms/step\n",
            "Epoch 9/10\n",
            "550/550 - 12s - loss: 0.0808 - accuracy: 0.9763 - val_loss: 0.0852 - val_accuracy: 0.9758 - 12s/epoch - 21ms/step\n",
            "Epoch 10/10\n",
            "550/550 - 14s - loss: 0.0811 - accuracy: 0.9772 - val_loss: 0.0817 - val_accuracy: 0.9762 - 14s/epoch - 25ms/step\n"
          ]
        }
      ]
    },
    {
      "cell_type": "code",
      "source": [
        "plt.plot(training_hist.history['loss'])\n",
        "plt.plot(training_hist.history['val_loss'])\n",
        "plt.title(\"Training and Validation Loss\")\n",
        "plt.legend(['training' , 'validation'],loc='upper right')\n",
        "plt.xlabel('epoch')\n",
        "plt.ylabel('loss')"
      ],
      "metadata": {
        "colab": {
          "base_uri": "https://localhost:8080/",
          "height": 313
        },
        "id": "4h0RjvfD9mmi",
        "outputId": "2cc42f05-0d41-4789-dd66-39e0a0bd0bf5"
      },
      "execution_count": 10,
      "outputs": [
        {
          "output_type": "execute_result",
          "data": {
            "text/plain": [
              "Text(0, 0.5, 'loss')"
            ]
          },
          "metadata": {},
          "execution_count": 10
        },
        {
          "output_type": "display_data",
          "data": {
            "text/plain": [
              "<Figure size 432x288 with 1 Axes>"
            ],
            "image/png": "[encoded data removed]"
          },
          "metadata": {
            "needs_background": "light"
          }
        }
      ]
    },
    {
      "cell_type": "code",
      "source": [
        "plt.plot(training_hist.history['accuracy'])\n",
        "plt.plot(training_hist.history['val_accuracy'])\n",
        "plt.title(\"Training and Validation Accuracy\")\n",
        "plt.legend(['training' , 'validation'],loc='upper right')\n",
        "plt.xlabel('epoch')\n",
        "plt.ylabel('accuracy')"
      ],
      "metadata": {
        "colab": {
          "base_uri": "https://localhost:8080/",
          "height": 313
        },
        "id": "YSqSghI7_xE9",
        "outputId": "609b24d9-b27b-4838-b712-86eebf5f92d9"
      },
      "execution_count": 11,
      "outputs": [
        {
          "output_type": "execute_result",
          "data": {
            "text/plain": [
              "Text(0, 0.5, 'accuracy')"
            ]
          },
          "metadata": {},
          "execution_count": 11
        },
        {
          "output_type": "display_data",
          "data": {
            "text/plain": [
              "<Figure size 432x288 with 1 Axes>"
            ],
            "image/png": "[encoded data removed]"
          },
          "metadata": {
            "needs_background": "light"
          }
        }
      ]
    },
    {
      "cell_type": "code",
      "source": [
        "loss_accuracy_score = nn_model.evaluate(x_test2, y_test2)\n",
        "print(\"Loss\", loss_accuracy_score[0])\n",
        "print(\"Accuracy Score:\", loss_accuracy_score[1])"
      ],
      "metadata": {
        "colab": {
          "base_uri": "https://localhost:8080/"
        },
        "id": "F-FvezKeXbD8",
        "outputId": "2f4c183b-7169-4ea9-e39b-2ee014c49047"
      },
      "execution_count": 12,
      "outputs": [
        {
          "output_type": "stream",
          "name": "stdout",
          "text": [
            "313/313 [==============================] - 3s 7ms/step - loss: 0.0848 - accuracy: 0.9765\n",
            "Loss 0.08482089638710022\n",
            "Accuracy Score: 0.9764999747276306\n"
          ]
        }
      ]
    },
    {
      "cell_type": "code",
      "source": [
        "nn_model2 = Sequential()\n",
        "nn_model2.add(LSTM(100, activation='tanh', input_shape=(28,28)))\n",
        "nn_model2.add(Dense(10, activation='sigmoid'))\n",
        "nn_model2.compile(optimizer='adam', loss='categorical_crossentropy', metrics=['accuracy'])\n",
        "nn_model2.summary()"
      ],
      "metadata": {
        "colab": {
          "base_uri": "https://localhost:8080/"
        },
        "id": "CfzIM6-dXbUQ",
        "outputId": "7617851d-0025-4ab3-d0e1-d65dbef2792b"
      },
      "execution_count": 14,
      "outputs": [
        {
          "output_type": "stream",
          "name": "stdout",
          "text": [
            "Model: \"sequential_1\"\n",
            "_________________________________________________________________\n",
            " Layer (type)                Output Shape              Param #   \n",
            "=================================================================\n",
            " lstm (LSTM)                 (None, 100)               51600     \n",
            "                                                                 \n",
            " dense_1 (Dense)             (None, 10)                1010      \n",
            "                                                                 \n",
            "=================================================================\n",
            "Total params: 52,610\n",
            "Trainable params: 52,610\n",
            "Non-trainable params: 0\n",
            "_________________________________________________________________\n"
          ]
        }
      ]
    },
    {
      "cell_type": "code",
      "source": [
        "training_hist2 = nn_model2.fit(x_train2, y_train2, validation_data=[x_val2, y_val2], batch_size=100, epochs=10, verbose=2)"
      ],
      "metadata": {
        "colab": {
          "base_uri": "https://localhost:8080/"
        },
        "id": "s6Ryt3EVXbWc",
        "outputId": "a55cb552-5755-4897-a91d-0748d6d4690d"
      },
      "execution_count": 15,
      "outputs": [
        {
          "output_type": "stream",
          "name": "stdout",
          "text": [
            "Epoch 1/10\n",
            "550/550 - 10s - loss: 0.5668 - accuracy: 0.8136 - val_loss: 0.2054 - val_accuracy: 0.9420 - 10s/epoch - 18ms/step\n",
            "Epoch 2/10\n",
            "550/550 - 6s - loss: 0.1725 - accuracy: 0.9481 - val_loss: 0.1194 - val_accuracy: 0.9644 - 6s/epoch - 11ms/step\n",
            "Epoch 3/10\n",
            "550/550 - 6s - loss: 0.1170 - accuracy: 0.9646 - val_loss: 0.0978 - val_accuracy: 0.9734 - 6s/epoch - 11ms/step\n",
            "Epoch 4/10\n",
            "550/550 - 6s - loss: 0.0915 - accuracy: 0.9725 - val_loss: 0.0895 - val_accuracy: 0.9740 - 6s/epoch - 11ms/step\n",
            "Epoch 5/10\n",
            "550/550 - 6s - loss: 0.0760 - accuracy: 0.9770 - val_loss: 0.0640 - val_accuracy: 0.9810 - 6s/epoch - 11ms/step\n",
            "Epoch 6/10\n",
            "550/550 - 6s - loss: 0.0642 - accuracy: 0.9802 - val_loss: 0.0596 - val_accuracy: 0.9830 - 6s/epoch - 11ms/step\n",
            "Epoch 7/10\n",
            "550/550 - 6s - loss: 0.0514 - accuracy: 0.9845 - val_loss: 0.0597 - val_accuracy: 0.9828 - 6s/epoch - 11ms/step\n",
            "Epoch 8/10\n",
            "550/550 - 6s - loss: 0.0485 - accuracy: 0.9849 - val_loss: 0.0573 - val_accuracy: 0.9834 - 6s/epoch - 11ms/step\n",
            "Epoch 9/10\n",
            "550/550 - 6s - loss: 0.0422 - accuracy: 0.9866 - val_loss: 0.0652 - val_accuracy: 0.9810 - 6s/epoch - 11ms/step\n",
            "Epoch 10/10\n",
            "550/550 - 6s - loss: 0.0375 - accuracy: 0.9884 - val_loss: 0.0523 - val_accuracy: 0.9836 - 6s/epoch - 11ms/step\n"
          ]
        }
      ]
    },
    {
      "cell_type": "code",
      "source": [
        "plt.plot(training_hist2.history['loss'])\n",
        "plt.plot(training_hist2.history['val_loss'])\n",
        "plt.title(\"Training and Validation Loss\")\n",
        "plt.legend(['training' , 'validation'],loc='upper right')\n",
        "plt.xlabel('epoch')\n",
        "plt.ylabel('loss')"
      ],
      "metadata": {
        "colab": {
          "base_uri": "https://localhost:8080/",
          "height": 313
        },
        "id": "Y5O35RcvXbY7",
        "outputId": "3304187e-e5b1-41dd-9a43-aac97df022ca"
      },
      "execution_count": 16,
      "outputs": [
        {
          "output_type": "execute_result",
          "data": {
            "text/plain": [
              "Text(0, 0.5, 'loss')"
            ]
          },
          "metadata": {},
          "execution_count": 16
        },
        {
          "output_type": "display_data",
          "data": {
            "text/plain": [
              "<Figure size 432x288 with 1 Axes>"
            ],
            "image/png": "[encoded data removed]"
          },
          "metadata": {
            "needs_background": "light"
          }
        }
      ]
    },
    {
      "cell_type": "code",
      "source": [
        "plt.plot(training_hist2.history['accuracy'])\n",
        "plt.plot(training_hist2.history['val_accuracy'])\n",
        "plt.title(\"Training and Validation Accuracy\")\n",
        "plt.legend(['training' , 'validation'],loc='upper right')\n",
        "plt.xlabel('epoch')\n",
        "plt.ylabel('accuracy')"
      ],
      "metadata": {
        "colab": {
          "base_uri": "https://localhost:8080/",
          "height": 313
        },
        "id": "HzG6bnWwaY1i",
        "outputId": "1b8b43b3-2f49-4a53-ff49-c1cc678a7b9d"
      },
      "execution_count": 17,
      "outputs": [
        {
          "output_type": "execute_result",
          "data": {
            "text/plain": [
              "Text(0, 0.5, 'accuracy')"
            ]
          },
          "metadata": {},
          "execution_count": 17
        },
        {
          "output_type": "display_data",
          "data": {
            "text/plain": [
              "<Figure size 432x288 with 1 Axes>"
            ],
            "image/png": "[encoded data removed]"
          },
          "metadata": {
            "needs_background": "light"
          }
        }
      ]
    },
    {
      "cell_type": "code",
      "source": [
        ""
      ],
      "metadata": {
        "id": "lHQdAAD3ac9i"
      },
      "execution_count": null,
      "outputs": []
    }
  ]
}